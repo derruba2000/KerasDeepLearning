{
 "cells": [
  {
   "cell_type": "code",
   "execution_count": 1,
   "metadata": {},
   "outputs": [
    {
     "name": "stdout",
     "output_type": "stream",
     "text": [
      "Number of Examples in the Dataset =  10000\n",
      "Number of Features for each example =  10\n",
      "Possible Output Classes =  [0 1]\n"
     ]
    }
   ],
   "source": [
    "import numpy as np\n",
    "import pandas as pd\n",
    "X = pd.read_csv(r'C:\\Data\\DeepLearningWorkshop\\tree_class_feats.csv')\n",
    "y = pd.read_csv(r'C:\\Data\\DeepLearningWorkshop\\tree_class_target.csv')\n",
    "# Print the sizes of the dataset\n",
    "print(\"Number of Examples in the Dataset = \", X.shape[0])\n",
    "print(\"Number of Features for each example = \", X.shape[1]) \n",
    "print(\"Possible Output Classes = \", np.unique(y))"
   ]
  },
  {
   "cell_type": "code",
   "execution_count": 2,
   "metadata": {},
   "outputs": [
    {
     "name": "stderr",
     "output_type": "stream",
     "text": [
      "Using TensorFlow backend.\n"
     ]
    }
   ],
   "source": [
    "from keras.models import Sequential\n",
    "from tensorflow import random\n",
    "np.random.seed(42)\n",
    "random.set_seed(42)\n",
    "model = Sequential()"
   ]
  },
  {
   "cell_type": "code",
   "execution_count": 3,
   "metadata": {},
   "outputs": [],
   "source": [
    "from keras.layers import Dense, Activation\n",
    "model.add(Dense(10, activation='tanh', input_dim=10))"
   ]
  },
  {
   "cell_type": "code",
   "execution_count": 4,
   "metadata": {},
   "outputs": [],
   "source": [
    "model.add(Dense(5, activation='tanh'))"
   ]
  },
  {
   "cell_type": "code",
   "execution_count": 5,
   "metadata": {},
   "outputs": [],
   "source": [
    "model.add(Dense(1, activation='sigmoid'))"
   ]
  },
  {
   "cell_type": "code",
   "execution_count": 6,
   "metadata": {},
   "outputs": [
    {
     "name": "stdout",
     "output_type": "stream",
     "text": [
      "Model: \"sequential_1\"\n",
      "_________________________________________________________________\n",
      "Layer (type)                 Output Shape              Param #   \n",
      "=================================================================\n",
      "dense_1 (Dense)              (None, 10)                110       \n",
      "_________________________________________________________________\n",
      "dense_2 (Dense)              (None, 5)                 55        \n",
      "_________________________________________________________________\n",
      "dense_3 (Dense)              (None, 1)                 6         \n",
      "=================================================================\n",
      "Total params: 171\n",
      "Trainable params: 171\n",
      "Non-trainable params: 0\n",
      "_________________________________________________________________\n"
     ]
    }
   ],
   "source": [
    "model.compile(optimizer='sgd', loss='binary_crossentropy', \\\n",
    "              metrics=['accuracy'])\n",
    "model.summary()"
   ]
  },
  {
   "cell_type": "code",
   "execution_count": 7,
   "metadata": {},
   "outputs": [
    {
     "name": "stdout",
     "output_type": "stream",
     "text": [
      "Train on 8000 samples, validate on 2000 samples\n",
      "Epoch 1/100\n",
      "8000/8000 [==============================] - 1s 147us/step - loss: 0.3938 - accuracy: 0.8124 - val_loss: 0.3177 - val_accuracy: 0.8605\n",
      "Epoch 2/100\n",
      "8000/8000 [==============================] - 1s 137us/step - loss: 0.3215 - accuracy: 0.8541 - val_loss: 0.2947 - val_accuracy: 0.8655\n",
      "Epoch 3/100\n",
      "8000/8000 [==============================] - 1s 125us/step - loss: 0.2993 - accuracy: 0.8662 - val_loss: 0.2774 - val_accuracy: 0.8800\n",
      "Epoch 4/100\n",
      "8000/8000 [==============================] - 1s 124us/step - loss: 0.2832 - accuracy: 0.8758 - val_loss: 0.2631 - val_accuracy: 0.8865\n",
      "Epoch 5/100\n",
      "8000/8000 [==============================] - 1s 126us/step - loss: 0.2695 - accuracy: 0.8825 - val_loss: 0.2507 - val_accuracy: 0.8895\n",
      "Epoch 6/100\n",
      "8000/8000 [==============================] - 1s 138us/step - loss: 0.2573 - accuracy: 0.8874 - val_loss: 0.2399 - val_accuracy: 0.8960\n",
      "Epoch 7/100\n",
      "8000/8000 [==============================] - 1s 130us/step - loss: 0.2470 - accuracy: 0.8914 - val_loss: 0.2301 - val_accuracy: 0.9020\n",
      "Epoch 8/100\n",
      "8000/8000 [==============================] - 1s 131us/step - loss: 0.2384 - accuracy: 0.8978 - val_loss: 0.2213 - val_accuracy: 0.9075\n",
      "Epoch 9/100\n",
      "8000/8000 [==============================] - 1s 123us/step - loss: 0.2314 - accuracy: 0.9030 - val_loss: 0.2141 - val_accuracy: 0.9110\n",
      "Epoch 10/100\n",
      "8000/8000 [==============================] - 1s 130us/step - loss: 0.2256 - accuracy: 0.9070 - val_loss: 0.2081 - val_accuracy: 0.9120\n",
      "Epoch 11/100\n",
      "8000/8000 [==============================] - 1s 126us/step - loss: 0.2203 - accuracy: 0.9103 - val_loss: 0.2027 - val_accuracy: 0.9160\n",
      "Epoch 12/100\n",
      "8000/8000 [==============================] - 1s 127us/step - loss: 0.2150 - accuracy: 0.9134 - val_loss: 0.1975 - val_accuracy: 0.9215\n",
      "Epoch 13/100\n",
      "8000/8000 [==============================] - 1s 147us/step - loss: 0.2102 - accuracy: 0.9150 - val_loss: 0.1925 - val_accuracy: 0.9225\n",
      "Epoch 14/100\n",
      "8000/8000 [==============================] - 1s 142us/step - loss: 0.2060 - accuracy: 0.9178 - val_loss: 0.1878 - val_accuracy: 0.9255\n",
      "Epoch 15/100\n",
      "8000/8000 [==============================] - 1s 127us/step - loss: 0.2020 - accuracy: 0.9193 - val_loss: 0.1840 - val_accuracy: 0.9280\n",
      "Epoch 16/100\n",
      "8000/8000 [==============================] - 1s 130us/step - loss: 0.1986 - accuracy: 0.9215 - val_loss: 0.1810 - val_accuracy: 0.9280\n",
      "Epoch 17/100\n",
      "8000/8000 [==============================] - 1s 128us/step - loss: 0.1960 - accuracy: 0.9227 - val_loss: 0.1787 - val_accuracy: 0.9295\n",
      "Epoch 18/100\n",
      "8000/8000 [==============================] - 1s 130us/step - loss: 0.1939 - accuracy: 0.9241 - val_loss: 0.1769 - val_accuracy: 0.9290\n",
      "Epoch 19/100\n",
      "8000/8000 [==============================] - 1s 126us/step - loss: 0.1923 - accuracy: 0.9250 - val_loss: 0.1755 - val_accuracy: 0.9305\n",
      "Epoch 20/100\n",
      "8000/8000 [==============================] - 1s 133us/step - loss: 0.1909 - accuracy: 0.9261 - val_loss: 0.1742 - val_accuracy: 0.9305\n",
      "Epoch 21/100\n",
      "8000/8000 [==============================] - 1s 147us/step - loss: 0.1896 - accuracy: 0.9261 - val_loss: 0.1732 - val_accuracy: 0.9310\n",
      "Epoch 22/100\n",
      "8000/8000 [==============================] - 1s 136us/step - loss: 0.1885 - accuracy: 0.9261 - val_loss: 0.1723 - val_accuracy: 0.9330\n",
      "Epoch 23/100\n",
      "8000/8000 [==============================] - 1s 128us/step - loss: 0.1875 - accuracy: 0.9265 - val_loss: 0.1716 - val_accuracy: 0.9325\n",
      "Epoch 24/100\n",
      "8000/8000 [==============================] - 1s 161us/step - loss: 0.1866 - accuracy: 0.9266 - val_loss: 0.1711 - val_accuracy: 0.9330\n",
      "Epoch 25/100\n",
      "8000/8000 [==============================] - 1s 157us/step - loss: 0.1857 - accuracy: 0.9276 - val_loss: 0.1707 - val_accuracy: 0.9330\n",
      "Epoch 26/100\n",
      "8000/8000 [==============================] - 1s 164us/step - loss: 0.1849 - accuracy: 0.9284 - val_loss: 0.1704 - val_accuracy: 0.9330\n",
      "Epoch 27/100\n",
      "8000/8000 [==============================] - 1s 157us/step - loss: 0.1841 - accuracy: 0.9277 - val_loss: 0.1702 - val_accuracy: 0.9320\n",
      "Epoch 28/100\n",
      "8000/8000 [==============================] - 1s 164us/step - loss: 0.1832 - accuracy: 0.9279 - val_loss: 0.1700 - val_accuracy: 0.9310\n",
      "Epoch 29/100\n",
      "8000/8000 [==============================] - 1s 172us/step - loss: 0.1823 - accuracy: 0.9281 - val_loss: 0.1696 - val_accuracy: 0.9305\n",
      "Epoch 30/100\n",
      "8000/8000 [==============================] - 1s 159us/step - loss: 0.1812 - accuracy: 0.9276 - val_loss: 0.1688 - val_accuracy: 0.9325\n",
      "Epoch 31/100\n",
      "8000/8000 [==============================] - 1s 150us/step - loss: 0.1801 - accuracy: 0.9276 - val_loss: 0.1673 - val_accuracy: 0.9340\n",
      "Epoch 32/100\n",
      "8000/8000 [==============================] - 1s 150us/step - loss: 0.1789 - accuracy: 0.9289 - val_loss: 0.1651 - val_accuracy: 0.9365\n",
      "Epoch 33/100\n",
      "8000/8000 [==============================] - 1s 166us/step - loss: 0.1773 - accuracy: 0.9298 - val_loss: 0.1628 - val_accuracy: 0.9385\n",
      "Epoch 34/100\n",
      "8000/8000 [==============================] - 1s 166us/step - loss: 0.1752 - accuracy: 0.9321 - val_loss: 0.1611 - val_accuracy: 0.9400\n",
      "Epoch 35/100\n",
      "8000/8000 [==============================] - 1s 154us/step - loss: 0.1730 - accuracy: 0.9335 - val_loss: 0.1597 - val_accuracy: 0.9420\n",
      "Epoch 36/100\n",
      "8000/8000 [==============================] - 1s 163us/step - loss: 0.1711 - accuracy: 0.9346 - val_loss: 0.1585 - val_accuracy: 0.9435\n",
      "Epoch 37/100\n",
      "8000/8000 [==============================] - 1s 151us/step - loss: 0.1695 - accuracy: 0.9355 - val_loss: 0.1574 - val_accuracy: 0.9435\n",
      "Epoch 38/100\n",
      "8000/8000 [==============================] - 1s 157us/step - loss: 0.1681 - accuracy: 0.9360 - val_loss: 0.1564 - val_accuracy: 0.9465\n",
      "Epoch 39/100\n",
      "8000/8000 [==============================] - 1s 159us/step - loss: 0.1668 - accuracy: 0.9367 - val_loss: 0.1556 - val_accuracy: 0.9455\n",
      "Epoch 40/100\n",
      "8000/8000 [==============================] - 1s 151us/step - loss: 0.1658 - accuracy: 0.9380 - val_loss: 0.1549 - val_accuracy: 0.9460\n",
      "Epoch 41/100\n",
      "8000/8000 [==============================] - 1s 156us/step - loss: 0.1648 - accuracy: 0.9381 - val_loss: 0.1544 - val_accuracy: 0.9460\n",
      "Epoch 42/100\n",
      "8000/8000 [==============================] - 1s 158us/step - loss: 0.1640 - accuracy: 0.9385 - val_loss: 0.1539 - val_accuracy: 0.9450\n",
      "Epoch 43/100\n",
      "8000/8000 [==============================] - 1s 158us/step - loss: 0.1633 - accuracy: 0.9388 - val_loss: 0.1536 - val_accuracy: 0.9455\n",
      "Epoch 44/100\n",
      "8000/8000 [==============================] - 1s 151us/step - loss: 0.1627 - accuracy: 0.9384 - val_loss: 0.1533 - val_accuracy: 0.9450\n",
      "Epoch 45/100\n",
      "8000/8000 [==============================] - 1s 157us/step - loss: 0.1621 - accuracy: 0.9388 - val_loss: 0.1531 - val_accuracy: 0.9450\n",
      "Epoch 46/100\n",
      "8000/8000 [==============================] - 1s 165us/step - loss: 0.1615 - accuracy: 0.9391 - val_loss: 0.1529 - val_accuracy: 0.9445\n",
      "Epoch 47/100\n",
      "8000/8000 [==============================] - 1s 162us/step - loss: 0.1610 - accuracy: 0.9384 - val_loss: 0.1528 - val_accuracy: 0.9450\n",
      "Epoch 48/100\n",
      "8000/8000 [==============================] - 1s 154us/step - loss: 0.1605 - accuracy: 0.9381 - val_loss: 0.1527 - val_accuracy: 0.9455\n",
      "Epoch 49/100\n",
      "8000/8000 [==============================] - 1s 156us/step - loss: 0.1601 - accuracy: 0.9380 - val_loss: 0.1526 - val_accuracy: 0.9440\n",
      "Epoch 50/100\n",
      "8000/8000 [==============================] - 1s 152us/step - loss: 0.1596 - accuracy: 0.9384 - val_loss: 0.1525 - val_accuracy: 0.9435\n",
      "Epoch 51/100\n",
      "8000/8000 [==============================] - 1s 158us/step - loss: 0.1591 - accuracy: 0.9384 - val_loss: 0.1525 - val_accuracy: 0.9425\n",
      "Epoch 52/100\n",
      "8000/8000 [==============================] - 1s 157us/step - loss: 0.1587 - accuracy: 0.9384 - val_loss: 0.1525 - val_accuracy: 0.9420\n",
      "Epoch 53/100\n",
      "8000/8000 [==============================] - 1s 159us/step - loss: 0.1583 - accuracy: 0.9388 - val_loss: 0.1525 - val_accuracy: 0.9410\n",
      "Epoch 54/100\n",
      "8000/8000 [==============================] - 1s 157us/step - loss: 0.1578 - accuracy: 0.9390 - val_loss: 0.1525 - val_accuracy: 0.9415\n",
      "Epoch 55/100\n",
      "8000/8000 [==============================] - 1s 158us/step - loss: 0.1574 - accuracy: 0.9392 - val_loss: 0.1525 - val_accuracy: 0.9410\n",
      "Epoch 56/100\n"
     ]
    },
    {
     "name": "stdout",
     "output_type": "stream",
     "text": [
      "8000/8000 [==============================] - 1s 147us/step - loss: 0.1570 - accuracy: 0.9394 - val_loss: 0.1525 - val_accuracy: 0.9420\n",
      "Epoch 57/100\n",
      "8000/8000 [==============================] - 1s 151us/step - loss: 0.1566 - accuracy: 0.9390 - val_loss: 0.1526 - val_accuracy: 0.9435\n",
      "Epoch 58/100\n",
      "8000/8000 [==============================] - 1s 148us/step - loss: 0.1563 - accuracy: 0.9391 - val_loss: 0.1526 - val_accuracy: 0.9440\n",
      "Epoch 59/100\n",
      "8000/8000 [==============================] - 1s 165us/step - loss: 0.1559 - accuracy: 0.9391 - val_loss: 0.1526 - val_accuracy: 0.9435\n",
      "Epoch 60/100\n",
      "8000/8000 [==============================] - 1s 158us/step - loss: 0.1556 - accuracy: 0.9391 - val_loss: 0.1526 - val_accuracy: 0.9420\n",
      "Epoch 61/100\n",
      "8000/8000 [==============================] - 1s 150us/step - loss: 0.1552 - accuracy: 0.9398 - val_loss: 0.1527 - val_accuracy: 0.9415\n",
      "Epoch 62/100\n",
      "8000/8000 [==============================] - 1s 145us/step - loss: 0.1549 - accuracy: 0.9404 - val_loss: 0.1527 - val_accuracy: 0.9405\n",
      "Epoch 63/100\n",
      "8000/8000 [==============================] - 1s 143us/step - loss: 0.1546 - accuracy: 0.9402 - val_loss: 0.1528 - val_accuracy: 0.9415\n",
      "Epoch 64/100\n",
      "8000/8000 [==============================] - 1s 133us/step - loss: 0.1543 - accuracy: 0.9398 - val_loss: 0.1529 - val_accuracy: 0.9415\n",
      "Epoch 65/100\n",
      "8000/8000 [==============================] - 1s 136us/step - loss: 0.1540 - accuracy: 0.9399 - val_loss: 0.1529 - val_accuracy: 0.9410\n",
      "Epoch 66/100\n",
      "8000/8000 [==============================] - 1s 146us/step - loss: 0.1537 - accuracy: 0.9396 - val_loss: 0.1530 - val_accuracy: 0.9405\n",
      "Epoch 67/100\n",
      "8000/8000 [==============================] - 1s 160us/step - loss: 0.1534 - accuracy: 0.9396 - val_loss: 0.1531 - val_accuracy: 0.9405\n",
      "Epoch 68/100\n",
      "8000/8000 [==============================] - 1s 168us/step - loss: 0.1532 - accuracy: 0.9395 - val_loss: 0.1532 - val_accuracy: 0.9410\n",
      "Epoch 69/100\n",
      "8000/8000 [==============================] - 1s 148us/step - loss: 0.1529 - accuracy: 0.9405 - val_loss: 0.1532 - val_accuracy: 0.9405\n",
      "Epoch 70/100\n",
      "8000/8000 [==============================] - 1s 175us/step - loss: 0.1527 - accuracy: 0.9405 - val_loss: 0.1533 - val_accuracy: 0.9405\n",
      "Epoch 71/100\n",
      "8000/8000 [==============================] - 1s 154us/step - loss: 0.1525 - accuracy: 0.9401 - val_loss: 0.1533 - val_accuracy: 0.9405\n",
      "Epoch 72/100\n",
      "8000/8000 [==============================] - 1s 155us/step - loss: 0.1523 - accuracy: 0.9402 - val_loss: 0.1534 - val_accuracy: 0.9405\n",
      "Epoch 73/100\n",
      "8000/8000 [==============================] - 1s 160us/step - loss: 0.1521 - accuracy: 0.9405 - val_loss: 0.1534 - val_accuracy: 0.9405\n",
      "Epoch 74/100\n",
      "8000/8000 [==============================] - 1s 148us/step - loss: 0.1519 - accuracy: 0.9409 - val_loss: 0.1534 - val_accuracy: 0.9405\n",
      "Epoch 75/100\n",
      "8000/8000 [==============================] - 1s 146us/step - loss: 0.1517 - accuracy: 0.9410 - val_loss: 0.1534 - val_accuracy: 0.9400\n",
      "Epoch 76/100\n",
      "8000/8000 [==============================] - 1s 146us/step - loss: 0.1516 - accuracy: 0.9411 - val_loss: 0.1534 - val_accuracy: 0.9400\n",
      "Epoch 77/100\n",
      "8000/8000 [==============================] - 1s 150us/step - loss: 0.1514 - accuracy: 0.9414 - val_loss: 0.1534 - val_accuracy: 0.9405\n",
      "Epoch 78/100\n",
      "8000/8000 [==============================] - 1s 138us/step - loss: 0.1513 - accuracy: 0.9413 - val_loss: 0.1534 - val_accuracy: 0.9395\n",
      "Epoch 79/100\n",
      "8000/8000 [==============================] - 1s 137us/step - loss: 0.1511 - accuracy: 0.9411 - val_loss: 0.1534 - val_accuracy: 0.9400\n",
      "Epoch 80/100\n",
      "8000/8000 [==============================] - 1s 136us/step - loss: 0.1510 - accuracy: 0.9416 - val_loss: 0.1534 - val_accuracy: 0.9400\n",
      "Epoch 81/100\n",
      "8000/8000 [==============================] - 1s 133us/step - loss: 0.1509 - accuracy: 0.9416 - val_loss: 0.1534 - val_accuracy: 0.9400\n",
      "Epoch 82/100\n",
      "8000/8000 [==============================] - 1s 137us/step - loss: 0.1507 - accuracy: 0.9416 - val_loss: 0.1533 - val_accuracy: 0.9400\n",
      "Epoch 83/100\n",
      "8000/8000 [==============================] - 1s 135us/step - loss: 0.1506 - accuracy: 0.9423 - val_loss: 0.1533 - val_accuracy: 0.9390\n",
      "Epoch 84/100\n",
      "8000/8000 [==============================] - 1s 148us/step - loss: 0.1505 - accuracy: 0.9421 - val_loss: 0.1533 - val_accuracy: 0.9390\n",
      "Epoch 85/100\n",
      "8000/8000 [==============================] - 1s 145us/step - loss: 0.1504 - accuracy: 0.9427 - val_loss: 0.1532 - val_accuracy: 0.9395\n",
      "Epoch 86/100\n",
      "8000/8000 [==============================] - 1s 157us/step - loss: 0.1503 - accuracy: 0.9427 - val_loss: 0.1532 - val_accuracy: 0.9385\n",
      "Epoch 87/100\n",
      "8000/8000 [==============================] - 1s 153us/step - loss: 0.1502 - accuracy: 0.9431 - val_loss: 0.1531 - val_accuracy: 0.9385\n",
      "Epoch 88/100\n",
      "8000/8000 [==============================] - 1s 143us/step - loss: 0.1501 - accuracy: 0.9434 - val_loss: 0.1531 - val_accuracy: 0.9385\n",
      "Epoch 89/100\n",
      "8000/8000 [==============================] - 1s 135us/step - loss: 0.1500 - accuracy: 0.9436 - val_loss: 0.1530 - val_accuracy: 0.9380\n",
      "Epoch 90/100\n",
      "8000/8000 [==============================] - 1s 139us/step - loss: 0.1499 - accuracy: 0.9436 - val_loss: 0.1530 - val_accuracy: 0.9380\n",
      "Epoch 91/100\n",
      "8000/8000 [==============================] - 1s 147us/step - loss: 0.1498 - accuracy: 0.9435 - val_loss: 0.1529 - val_accuracy: 0.9380\n",
      "Epoch 92/100\n",
      "8000/8000 [==============================] - 1s 147us/step - loss: 0.1497 - accuracy: 0.9435 - val_loss: 0.1529 - val_accuracy: 0.9380\n",
      "Epoch 93/100\n",
      "8000/8000 [==============================] - 1s 147us/step - loss: 0.1496 - accuracy: 0.9434 - val_loss: 0.1529 - val_accuracy: 0.9390\n",
      "Epoch 94/100\n",
      "8000/8000 [==============================] - 1s 148us/step - loss: 0.1494 - accuracy: 0.9436 - val_loss: 0.1528 - val_accuracy: 0.9405\n",
      "Epoch 95/100\n",
      "8000/8000 [==============================] - 1s 138us/step - loss: 0.1493 - accuracy: 0.9439 - val_loss: 0.1528 - val_accuracy: 0.9395\n",
      "Epoch 96/100\n",
      "8000/8000 [==============================] - 1s 149us/step - loss: 0.1492 - accuracy: 0.9436 - val_loss: 0.1528 - val_accuracy: 0.9400\n",
      "Epoch 97/100\n",
      "8000/8000 [==============================] - 1s 136us/step - loss: 0.1491 - accuracy: 0.9439 - val_loss: 0.1528 - val_accuracy: 0.9400\n",
      "Epoch 98/100\n",
      "8000/8000 [==============================] - 1s 137us/step - loss: 0.1490 - accuracy: 0.9436 - val_loss: 0.1528 - val_accuracy: 0.9410\n",
      "Epoch 99/100\n",
      "8000/8000 [==============================] - 1s 146us/step - loss: 0.1488 - accuracy: 0.9439 - val_loss: 0.1528 - val_accuracy: 0.9405\n",
      "Epoch 100/100\n",
      "8000/8000 [==============================] - 1s 164us/step - loss: 0.1487 - accuracy: 0.9439 - val_loss: 0.1528 - val_accuracy: 0.9410\n"
     ]
    }
   ],
   "source": [
    "history = model.fit(X, y, epochs=100, batch_size=5, \\\n",
    "                    verbose=1, validation_split=0.2, \\\n",
    "                    shuffle=False)"
   ]
  },
  {
   "cell_type": "code",
   "execution_count": 8,
   "metadata": {},
   "outputs": [
    {
     "data": {
      "image/png": "[encoded data removed]",
      "text/plain": [
       "<Figure size 432x288 with 1 Axes>"
      ]
     },
     "metadata": {
      "needs_background": "light"
     },
     "output_type": "display_data"
    },
    {
     "data": {
      "image/png": "[encoded data removed]",
      "text/plain": [
       "<Figure size 432x288 with 1 Axes>"
      ]
     },
     "metadata": {
      "needs_background": "light"
     },
     "output_type": "display_data"
    }
   ],
   "source": [
    "import matplotlib.pyplot as plt\n",
    "%matplotlib inline\n",
    "# Plot training & validation accuracy values\n",
    "plt.plot(history.history['accuracy'])\n",
    "plt.plot(history.history['val_accuracy'])\n",
    "plt.title('Model accuracy')\n",
    "plt.ylabel('Accuracy')\n",
    "plt.xlabel('Epoch')\n",
    "plt.legend(['Train', 'Validation'], loc='upper left')\n",
    "plt.show()\n",
    "# Plot training & validation loss values\n",
    "plt.plot(history.history['loss'])\n",
    "plt.plot(history.history['val_loss'])\n",
    "plt.title('Model loss')\n",
    "plt.ylabel('Loss')\n",
    "plt.xlabel('Epoch')\n",
    "plt.legend(['Train', 'Validation'], loc='upper left')\n",
    "plt.show()"
   ]
  },
  {
   "cell_type": "code",
   "execution_count": 10,
   "metadata": {},
   "outputs": [],
   "source": [
    "y_predicted = model.predict(X.iloc[0:10,:])"
   ]
  },
  {
   "cell_type": "code",
   "execution_count": 11,
   "metadata": {},
   "outputs": [
    {
     "name": "stdout",
     "output_type": "stream",
     "text": [
      "Predicted probability for each of the examples belonging to class 1: \n",
      "[[0.0040719 ]\n",
      " [0.65496284]\n",
      " [0.00371328]\n",
      " [0.9216942 ]\n",
      " [0.9990694 ]\n",
      " [0.00409331]\n",
      " [0.5481373 ]\n",
      " [0.00311766]\n",
      " [0.00278927]\n",
      " [0.98748755]]\n",
      "Predicted class label for each of the examples: \n",
      "[[0.]\n",
      " [1.]\n",
      " [0.]\n",
      " [1.]\n",
      " [1.]\n",
      " [0.]\n",
      " [1.]\n",
      " [0.]\n",
      " [0.]\n",
      " [1.]]\n"
     ]
    }
   ],
   "source": [
    "# print the predicted classes\n",
    "print(\"Predicted probability for each of the \"\\\n",
    "      \"examples belonging to class 1: \"),\n",
    "print(y_predicted)\n",
    "print(\"Predicted class label for each of the examples: \"), \n",
    "print(np.round(y_predicted))"
   ]
  },
  {
   "cell_type": "code",
   "execution_count": null,
   "metadata": {},
   "outputs": [],
   "source": []
  }
 ],
 "metadata": {
  "kernelspec": {
   "display_name": "Python 3",
   "language": "python",
   "name": "python3"
  },
  "language_info": {
   "codemirror_mode": {
    "name": "ipython",
    "version": 3
   },
   "file_extension": ".py",
   "mimetype": "text/x-python",
   "name": "python",
   "nbconvert_exporter": "python",
   "pygments_lexer": "ipython3",
   "version": "3.7.7"
  }
 },
 "nbformat": 4,
 "nbformat_minor": 4
}
