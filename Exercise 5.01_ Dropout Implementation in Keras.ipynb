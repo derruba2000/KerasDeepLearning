{
 "cells": [
  {
   "cell_type": "code",
   "execution_count": 2,
   "metadata": {},
   "outputs": [],
   "source": [
    "# Load the data\n",
    "import pandas as pd\n",
    "X = pd.read_csv(r'C:\\Data\\DeepLearningWorkshop\\tree_class_feats.csv')\n",
    "y = pd.read_csv(r'C:\\Data\\DeepLearningWorkshop\\tree_class_target.csv')\n",
    "\"\"\"\n",
    "Split the dataset into training set and test set with a 80-20 ratio\n",
    "\"\"\"\n",
    "from sklearn.model_selection import train_test_split\n",
    "seed = 1\n",
    "X_train, X_test, \\\n",
    "y_train, y_test = train_test_split(X, y, \\\n",
    "                                   test_size=0.2, \\\n",
    "                                   random_state=seed)"
   ]
  },
  {
   "cell_type": "code",
   "execution_count": 3,
   "metadata": {},
   "outputs": [
    {
     "name": "stderr",
     "output_type": "stream",
     "text": [
      "Using TensorFlow backend.\n"
     ]
    }
   ],
   "source": [
    "#Define your model\n",
    "from keras.models import Sequential\n",
    "from keras.layers import Dense, Activation\n",
    "import numpy as np\n",
    "from tensorflow import random\n",
    "np.random.seed(seed)\n",
    "random.set_seed(seed)\n",
    "model_1 = Sequential()\n",
    "model_1.add(Dense(16, activation='relu', input_dim=10))\n",
    "model_1.add(Dense(12, activation='relu'))\n",
    "model_1.add(Dense(8, activation='relu'))\n",
    "model_1.add(Dense(4, activation='relu'))\n",
    "model_1.add(Dense(1, activation='sigmoid'))"
   ]
  },
  {
   "cell_type": "code",
   "execution_count": 4,
   "metadata": {},
   "outputs": [
    {
     "name": "stdout",
     "output_type": "stream",
     "text": [
      "2000/2000 [==============================] - 0s 16us/step\n",
      "Test Loss = 0.16980725374817848\n"
     ]
    }
   ],
   "source": [
    "model_1.compile(optimizer='sgd', loss='binary_crossentropy')\n",
    "# train the model\n",
    "model_1.fit(X_train, y_train, \\\n",
    "            epochs=300, batch_size=50, \\\n",
    "            verbose=0, shuffle=False)\n",
    "# evaluate on test set\n",
    "print(\"Test Loss =\", model_1.evaluate(X_test, y_test))"
   ]
  },
  {
   "cell_type": "code",
   "execution_count": 5,
   "metadata": {},
   "outputs": [
    {
     "name": "stdout",
     "output_type": "stream",
     "text": [
      "2000/2000 [==============================] - 0s 20us/step\n",
      "Test Loss = 0.18779293835163116\n"
     ]
    }
   ],
   "source": [
    "\"\"\"\n",
    "define the keras model with dropout in the first hidden layer\n",
    "\"\"\"\n",
    "from keras.layers import Dropout\n",
    "np.random.seed(seed)\n",
    "random.set_seed(seed)\n",
    "model_2 = Sequential()\n",
    "model_2.add(Dense(16, activation='relu', input_dim=10))\n",
    "model_2.add(Dropout(0.1))\n",
    "model_2.add(Dense(12, activation='relu'))\n",
    "model_2.add(Dense(8, activation='relu'))\n",
    "model_2.add(Dense(4, activation='relu'))\n",
    "model_2.add(Dense(1, activation='sigmoid'))\n",
    "model_2.compile(optimizer='sgd', loss='binary_crossentropy')\n",
    "# train the model\n",
    "model_2.fit(X_train, y_train, \\\n",
    "            epochs=300, batch_size=50, \\\n",
    "            verbose=0, shuffle=False)\n",
    "# evaluate on test set\n",
    "print(\"Test Loss =\", model_2.evaluate(X_test, y_test))"
   ]
  },
  {
   "cell_type": "code",
   "execution_count": 6,
   "metadata": {},
   "outputs": [
    {
     "name": "stdout",
     "output_type": "stream",
     "text": [
      "2000/2000 [==============================] - 0s 29us/step\n",
      "Test Loss = 0.20908434325456618\n"
     ]
    }
   ],
   "source": [
    "# define the keras model with dropout in all hidden layers\n",
    "np.random.seed(seed)\n",
    "random.set_seed(seed)\n",
    "model_3 = Sequential()\n",
    "model_3.add(Dense(16, activation='relu', input_dim=10))\n",
    "model_3.add(Dropout(0.2))\n",
    "model_3.add(Dense(12, activation='relu'))\n",
    "model_3.add(Dropout(0.1))\n",
    "model_3.add(Dense(8, activation='relu'))\n",
    "model_3.add(Dropout(0.1))\n",
    "model_3.add(Dense(4, activation='relu'))\n",
    "model_3.add(Dropout(0.1))\n",
    "model_3.add(Dense(1, activation='sigmoid'))\n",
    "model_3.compile(optimizer='sgd', loss='binary_crossentropy')\n",
    "# train the model\n",
    "model_3.fit(X_train, y_train, epochs=300, \\\n",
    "            batch_size=50, verbose=0, shuffle=False)\n",
    "# evaluate on test set\n",
    "print(\"Test Loss =\", model_3.evaluate(X_test, y_test))"
   ]
  },
  {
   "cell_type": "code",
   "execution_count": null,
   "metadata": {},
   "outputs": [],
   "source": []
  }
 ],
 "metadata": {
  "kernelspec": {
   "display_name": "Python 3",
   "language": "python",
   "name": "python3"
  },
  "language_info": {
   "codemirror_mode": {
    "name": "ipython",
    "version": 3
   },
   "file_extension": ".py",
   "mimetype": "text/x-python",
   "name": "python",
   "nbconvert_exporter": "python",
   "pygments_lexer": "ipython3",
   "version": "3.7.7"
  }
 },
 "nbformat": 4,
 "nbformat_minor": 4
}
