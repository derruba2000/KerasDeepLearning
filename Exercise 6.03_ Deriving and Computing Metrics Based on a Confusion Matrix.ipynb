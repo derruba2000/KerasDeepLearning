{
 "cells": [
  {
   "cell_type": "code",
   "execution_count": 1,
   "metadata": {},
   "outputs": [],
   "source": [
    "# Import the libraries\n",
    "import numpy as np\n",
    "import pandas as pd\n",
    "# Load the Data\n",
    "X = pd.read_csv(r'C:\\Data\\DeepLearningWorkshop/aps_failure_training_feats.csv')\n",
    "y = pd.read_csv(r'C:\\Data\\DeepLearningWorkshop/aps_failure_training_target.csv')"
   ]
  },
  {
   "cell_type": "code",
   "execution_count": 2,
   "metadata": {},
   "outputs": [],
   "source": [
    "from sklearn.model_selection import train_test_split\n",
    "seed = 42\n",
    "X_train, X_test, \\\n",
    "y_train, y_test = train_test_split(X, y, \\\n",
    "                  test_size=0.20, random_state=seed)"
   ]
  },
  {
   "cell_type": "code",
   "execution_count": 3,
   "metadata": {},
   "outputs": [],
   "source": [
    "from sklearn.preprocessing import StandardScaler\n",
    "sc = StandardScaler()\n",
    "# Transform the training data\n",
    "X_train = sc.fit_transform(X_train)\n",
    "X_train = pd.DataFrame(X_train,columns=X_test.columns)\n",
    "# Transform the testing data\n",
    "X_test = sc.transform(X_test)\n",
    "X_test = pd.DataFrame(X_test,columns=X_train.columns)"
   ]
  },
  {
   "cell_type": "code",
   "execution_count": 4,
   "metadata": {},
   "outputs": [
    {
     "name": "stderr",
     "output_type": "stream",
     "text": [
      "Using TensorFlow backend.\n"
     ]
    }
   ],
   "source": [
    "# Import the relevant Keras libraries\n",
    "from keras.models import Sequential\n",
    "from keras.layers import Dense\n",
    "from keras.layers import Dropout\n",
    "from tensorflow import random\n",
    "np.random.seed(seed)\n",
    "random.set_seed(seed)\n",
    "model = Sequential()\n",
    "# Add the hidden dense layers and with dropout Layer\n",
    "model.add(Dense(units=64, activation='relu', \\\n",
    "                kernel_initializer='uniform', \\\n",
    "                input_dim=X_train.shape[1]))\n",
    "model.add(Dropout(rate=0.5))\n",
    "model.add(Dense(units=32, activation='relu', \\\n",
    "                kernel_initializer='uniform'))\n",
    "model.add(Dropout(rate=0.4))\n",
    "model.add(Dense(units=16, activation='relu', \\\n",
    "                kernel_initializer='uniform'))\n",
    "model.add(Dropout(rate=0.3))\n",
    "model.add(Dense(units=8, activation='relu', \\\n",
    "                kernel_initializer='uniform'))\n",
    "model.add(Dropout(rate=0.2))\n",
    "model.add(Dense(units=4, activation='relu', \\\n",
    "                kernel_initializer='uniform'))\n",
    "model.add(Dropout(rate=0.1))\n",
    "# Add Output Dense Layer\n",
    "model.add(Dense(units=1, activation='sigmoid', \\\n",
    "                kernel_initializer='uniform'))\n",
    "# Compile the Model\n",
    "model.compile(optimizer='adam', \\\n",
    "              loss='binary_crossentropy', \\\n",
    "              metrics=['accuracy'])"
   ]
  },
  {
   "cell_type": "code",
   "execution_count": 5,
   "metadata": {},
   "outputs": [
    {
     "name": "stdout",
     "output_type": "stream",
     "text": [
      "Train on 38400 samples, validate on 9600 samples\n",
      "Epoch 1/100\n",
      "38400/38400 [==============================] - 4s 116us/step - loss: 0.0809 - accuracy: 0.9833 - val_loss: 0.0351 - val_accuracy: 0.9842\n",
      "Epoch 2/100\n",
      "38400/38400 [==============================] - 4s 99us/step - loss: 0.0424 - accuracy: 0.9834 - val_loss: 0.0343 - val_accuracy: 0.9842\n",
      "Epoch 3/100\n",
      "38400/38400 [==============================] - 4s 103us/step - loss: 0.0382 - accuracy: 0.9834 - val_loss: 0.0313 - val_accuracy: 0.9842\n",
      "Epoch 4/100\n",
      "38400/38400 [==============================] - 4s 99us/step - loss: 0.0340 - accuracy: 0.9834 - val_loss: 0.0328 - val_accuracy: 0.9842\n",
      "Epoch 5/100\n",
      "38400/38400 [==============================] - 3s 88us/step - loss: 0.0355 - accuracy: 0.9890 - val_loss: 0.0297 - val_accuracy: 0.9900\n",
      "Epoch 6/100\n",
      "38400/38400 [==============================] - 4s 103us/step - loss: 0.0332 - accuracy: 0.9901 - val_loss: 0.0293 - val_accuracy: 0.9896\n",
      "Epoch 7/100\n",
      "38400/38400 [==============================] - 4s 99us/step - loss: 0.0325 - accuracy: 0.9901 - val_loss: 0.0290 - val_accuracy: 0.9903\n",
      "Epoch 8/100\n",
      "38400/38400 [==============================] - 4s 93us/step - loss: 0.0314 - accuracy: 0.9902 - val_loss: 0.0284 - val_accuracy: 0.9915\n",
      "Epoch 9/100\n",
      "38400/38400 [==============================] - 3s 88us/step - loss: 0.0305 - accuracy: 0.9910 - val_loss: 0.0321 - val_accuracy: 0.9897\n",
      "Epoch 10/100\n",
      "38400/38400 [==============================] - 4s 92us/step - loss: 0.0301 - accuracy: 0.9907 - val_loss: 0.0271 - val_accuracy: 0.9919\n",
      "Epoch 11/100\n",
      "38400/38400 [==============================] - 3s 90us/step - loss: 0.0284 - accuracy: 0.9910 - val_loss: 0.0280 - val_accuracy: 0.9916\n",
      "Epoch 12/100\n",
      "38400/38400 [==============================] - 4s 92us/step - loss: 0.0284 - accuracy: 0.9908 - val_loss: 0.0287 - val_accuracy: 0.9920\n",
      "Epoch 13/100\n",
      "38400/38400 [==============================] - 4s 104us/step - loss: 0.0283 - accuracy: 0.9910 - val_loss: 0.0298 - val_accuracy: 0.9920\n",
      "Epoch 14/100\n",
      "38400/38400 [==============================] - 4s 104us/step - loss: 0.0298 - accuracy: 0.9910 - val_loss: 0.0334 - val_accuracy: 0.9919\n",
      "Epoch 15/100\n",
      "38400/38400 [==============================] - 4s 106us/step - loss: 0.0294 - accuracy: 0.9917 - val_loss: 0.0273 - val_accuracy: 0.9915\n",
      "Epoch 16/100\n",
      "38400/38400 [==============================] - 4s 110us/step - loss: 0.0278 - accuracy: 0.9915 - val_loss: 0.0293 - val_accuracy: 0.9918\n",
      "Epoch 17/100\n",
      "38400/38400 [==============================] - 4s 106us/step - loss: 0.0286 - accuracy: 0.9915 - val_loss: 0.0285 - val_accuracy: 0.9922\n",
      "Epoch 18/100\n",
      "38400/38400 [==============================] - 4s 95us/step - loss: 0.0277 - accuracy: 0.9921 - val_loss: 0.0321 - val_accuracy: 0.9921\n",
      "Epoch 19/100\n",
      "38400/38400 [==============================] - 4s 110us/step - loss: 0.0269 - accuracy: 0.9921 - val_loss: 0.0307 - val_accuracy: 0.9916\n",
      "Epoch 20/100\n",
      "38400/38400 [==============================] - 4s 103us/step - loss: 0.0266 - accuracy: 0.9917 - val_loss: 0.0286 - val_accuracy: 0.9919\n",
      "Epoch 21/100\n",
      "38400/38400 [==============================] - 4s 102us/step - loss: 0.0279 - accuracy: 0.9921 - val_loss: 0.0300 - val_accuracy: 0.9925\n",
      "Epoch 22/100\n",
      "38400/38400 [==============================] - 4s 107us/step - loss: 0.0277 - accuracy: 0.9923 - val_loss: 0.0305 - val_accuracy: 0.9926\n",
      "Epoch 23/100\n",
      "38400/38400 [==============================] - 4s 95us/step - loss: 0.0260 - accuracy: 0.9926 - val_loss: 0.0283 - val_accuracy: 0.9921\n",
      "Epoch 24/100\n",
      "38400/38400 [==============================] - 4s 96us/step - loss: 0.0265 - accuracy: 0.9926 - val_loss: 0.0322 - val_accuracy: 0.9925\n",
      "Epoch 25/100\n",
      "38400/38400 [==============================] - 4s 99us/step - loss: 0.0260 - accuracy: 0.9927 - val_loss: 0.0348 - val_accuracy: 0.9922\n",
      "Epoch 26/100\n",
      "38400/38400 [==============================] - 3s 80us/step - loss: 0.0263 - accuracy: 0.9930 - val_loss: 0.0298 - val_accuracy: 0.9926\n",
      "Epoch 27/100\n",
      "38400/38400 [==============================] - 3s 72us/step - loss: 0.0264 - accuracy: 0.9922 - val_loss: 0.0291 - val_accuracy: 0.9932\n",
      "Epoch 28/100\n",
      "38400/38400 [==============================] - 3s 72us/step - loss: 0.0257 - accuracy: 0.9930 - val_loss: 0.0331 - val_accuracy: 0.9922\n",
      "Epoch 29/100\n",
      "38400/38400 [==============================] - 3s 72us/step - loss: 0.0234 - accuracy: 0.9933 - val_loss: 0.0317 - val_accuracy: 0.9919\n",
      "Epoch 30/100\n",
      "38400/38400 [==============================] - 3s 74us/step - loss: 0.0247 - accuracy: 0.9931 - val_loss: 0.0330 - val_accuracy: 0.9916\n",
      "Epoch 31/100\n",
      "38400/38400 [==============================] - 3s 75us/step - loss: 0.0260 - accuracy: 0.9924 - val_loss: 0.0311 - val_accuracy: 0.9918\n",
      "Epoch 32/100\n",
      "38400/38400 [==============================] - 3s 82us/step - loss: 0.0251 - accuracy: 0.9933 - val_loss: 0.0299 - val_accuracy: 0.9923\n",
      "Epoch 33/100\n",
      "38400/38400 [==============================] - 3s 82us/step - loss: 0.0246 - accuracy: 0.9933 - val_loss: 0.0340 - val_accuracy: 0.9917\n",
      "Epoch 34/100\n",
      "38400/38400 [==============================] - 3s 71us/step - loss: 0.0256 - accuracy: 0.9927 - val_loss: 0.0305 - val_accuracy: 0.9919\n",
      "Epoch 35/100\n",
      "38400/38400 [==============================] - 3s 78us/step - loss: 0.0245 - accuracy: 0.9929 - val_loss: 0.0328 - val_accuracy: 0.9923\n",
      "Epoch 36/100\n",
      "38400/38400 [==============================] - 3s 79us/step - loss: 0.0231 - accuracy: 0.9933 - val_loss: 0.0343 - val_accuracy: 0.9925\n",
      "Epoch 37/100\n",
      "38400/38400 [==============================] - 3s 78us/step - loss: 0.0239 - accuracy: 0.9933 - val_loss: 0.0336 - val_accuracy: 0.9925\n",
      "Epoch 38/100\n",
      "38400/38400 [==============================] - 3s 78us/step - loss: 0.0239 - accuracy: 0.9936 - val_loss: 0.0349 - val_accuracy: 0.9921\n",
      "Epoch 39/100\n",
      "38400/38400 [==============================] - 3s 87us/step - loss: 0.0248 - accuracy: 0.9935 - val_loss: 0.0329 - val_accuracy: 0.9928\n",
      "Epoch 40/100\n",
      "38400/38400 [==============================] - 4s 99us/step - loss: 0.0225 - accuracy: 0.9935 - val_loss: 0.0319 - val_accuracy: 0.9919\n",
      "Epoch 41/100\n",
      "38400/38400 [==============================] - 3s 82us/step - loss: 0.0245 - accuracy: 0.9941 - val_loss: 0.0381 - val_accuracy: 0.9921\n",
      "Epoch 42/100\n",
      "38400/38400 [==============================] - 3s 88us/step - loss: 0.0222 - accuracy: 0.9940 - val_loss: 0.0374 - val_accuracy: 0.9910\n",
      "Epoch 43/100\n",
      "38400/38400 [==============================] - 3s 81us/step - loss: 0.0236 - accuracy: 0.9937 - val_loss: 0.0394 - val_accuracy: 0.9926\n",
      "Epoch 44/100\n",
      "38400/38400 [==============================] - 3s 71us/step - loss: 0.0228 - accuracy: 0.9943 - val_loss: 0.0356 - val_accuracy: 0.9921\n",
      "Epoch 45/100\n",
      "38400/38400 [==============================] - 3s 90us/step - loss: 0.0220 - accuracy: 0.9936 - val_loss: 0.0351 - val_accuracy: 0.9923\n",
      "Epoch 46/100\n",
      "38400/38400 [==============================] - 3s 88us/step - loss: 0.0232 - accuracy: 0.9939 - val_loss: 0.0349 - val_accuracy: 0.9918\n",
      "Epoch 47/100\n",
      "38400/38400 [==============================] - 3s 66us/step - loss: 0.0225 - accuracy: 0.9934 - val_loss: 0.0368 - val_accuracy: 0.9926\n",
      "Epoch 48/100\n",
      "38400/38400 [==============================] - 3s 66us/step - loss: 0.0220 - accuracy: 0.9944 - val_loss: 0.0369 - val_accuracy: 0.9924\n",
      "Epoch 49/100\n",
      "38400/38400 [==============================] - 3s 69us/step - loss: 0.0219 - accuracy: 0.9936 - val_loss: 0.0347 - val_accuracy: 0.9918\n",
      "Epoch 50/100\n",
      "38400/38400 [==============================] - 3s 81us/step - loss: 0.0221 - accuracy: 0.9945 - val_loss: 0.0407 - val_accuracy: 0.9927\n",
      "Epoch 51/100\n",
      "38400/38400 [==============================] - 4s 95us/step - loss: 0.0224 - accuracy: 0.9941 - val_loss: 0.0424 - val_accuracy: 0.9925\n",
      "Epoch 52/100\n",
      "38400/38400 [==============================] - 4s 104us/step - loss: 0.0226 - accuracy: 0.9940 - val_loss: 0.0409 - val_accuracy: 0.9925\n",
      "Epoch 53/100\n",
      "38400/38400 [==============================] - 3s 88us/step - loss: 0.0237 - accuracy: 0.9937 - val_loss: 0.0373 - val_accuracy: 0.9922\n",
      "Epoch 54/100\n",
      "38400/38400 [==============================] - 3s 71us/step - loss: 0.0229 - accuracy: 0.9939 - val_loss: 0.0394 - val_accuracy: 0.9928\n",
      "Epoch 55/100\n"
     ]
    },
    {
     "name": "stdout",
     "output_type": "stream",
     "text": [
      "38400/38400 [==============================] - 3s 71us/step - loss: 0.0217 - accuracy: 0.9942 - val_loss: 0.0442 - val_accuracy: 0.9926\n",
      "Epoch 56/100\n",
      "38400/38400 [==============================] - 3s 89us/step - loss: 0.0209 - accuracy: 0.9946 - val_loss: 0.0402 - val_accuracy: 0.9931\n",
      "Epoch 57/100\n",
      "38400/38400 [==============================] - 3s 67us/step - loss: 0.0223 - accuracy: 0.9937 - val_loss: 0.0445 - val_accuracy: 0.9920\n",
      "Epoch 58/100\n",
      "38400/38400 [==============================] - 3s 67us/step - loss: 0.0223 - accuracy: 0.9941 - val_loss: 0.0394 - val_accuracy: 0.9919\n",
      "Epoch 59/100\n",
      "38400/38400 [==============================] - 3s 72us/step - loss: 0.0214 - accuracy: 0.9940 - val_loss: 0.0309 - val_accuracy: 0.9916\n",
      "Epoch 60/100\n",
      "38400/38400 [==============================] - 3s 72us/step - loss: 0.0232 - accuracy: 0.9945 - val_loss: 0.0457 - val_accuracy: 0.9917\n",
      "Epoch 61/100\n",
      "38400/38400 [==============================] - 3s 75us/step - loss: 0.0227 - accuracy: 0.9946 - val_loss: 0.0426 - val_accuracy: 0.9921\n",
      "Epoch 62/100\n",
      "38400/38400 [==============================] - 3s 76us/step - loss: 0.0226 - accuracy: 0.9942 - val_loss: 0.0417 - val_accuracy: 0.9919\n",
      "Epoch 63/100\n",
      "38400/38400 [==============================] - 4s 94us/step - loss: 0.0211 - accuracy: 0.9948 - val_loss: 0.0390 - val_accuracy: 0.9908\n",
      "Epoch 64/100\n",
      "38400/38400 [==============================] - 5s 133us/step - loss: 0.0209 - accuracy: 0.9942 - val_loss: 0.0402 - val_accuracy: 0.9916\n",
      "Epoch 65/100\n",
      "38400/38400 [==============================] - 3s 76us/step - loss: 0.0191 - accuracy: 0.9947 - val_loss: 0.0532 - val_accuracy: 0.9921\n",
      "Epoch 66/100\n",
      "38400/38400 [==============================] - 3s 73us/step - loss: 0.0218 - accuracy: 0.9936 - val_loss: 0.0505 - val_accuracy: 0.9922\n",
      "Epoch 67/100\n",
      "38400/38400 [==============================] - 3s 87us/step - loss: 0.0222 - accuracy: 0.9946 - val_loss: 0.0398 - val_accuracy: 0.9914\n",
      "Epoch 68/100\n",
      "38400/38400 [==============================] - 3s 70us/step - loss: 0.0211 - accuracy: 0.9942 - val_loss: 0.0369 - val_accuracy: 0.9916\n",
      "Epoch 69/100\n",
      "38400/38400 [==============================] - 3s 69us/step - loss: 0.0207 - accuracy: 0.9944 - val_loss: 0.0499 - val_accuracy: 0.9927\n",
      "Epoch 70/100\n",
      "38400/38400 [==============================] - 3s 70us/step - loss: 0.0197 - accuracy: 0.9947 - val_loss: 0.0575 - val_accuracy: 0.9918\n",
      "Epoch 71/100\n",
      "38400/38400 [==============================] - 3s 79us/step - loss: 0.0202 - accuracy: 0.9939 - val_loss: 0.0423 - val_accuracy: 0.9918\n",
      "Epoch 72/100\n",
      "38400/38400 [==============================] - 3s 82us/step - loss: 0.0210 - accuracy: 0.9946 - val_loss: 0.0469 - val_accuracy: 0.9908\n",
      "Epoch 73/100\n",
      "38400/38400 [==============================] - 4s 97us/step - loss: 0.0207 - accuracy: 0.9947 - val_loss: 0.0453 - val_accuracy: 0.9916\n",
      "Epoch 74/100\n",
      "38400/38400 [==============================] - 3s 77us/step - loss: 0.0191 - accuracy: 0.9948 - val_loss: 0.0460 - val_accuracy: 0.9907\n",
      "Epoch 75/100\n",
      "38400/38400 [==============================] - 3s 73us/step - loss: 0.0192 - accuracy: 0.9945 - val_loss: 0.0567 - val_accuracy: 0.9919\n",
      "Epoch 76/100\n",
      "38400/38400 [==============================] - 3s 75us/step - loss: 0.0210 - accuracy: 0.9944 - val_loss: 0.0476 - val_accuracy: 0.9918\n",
      "Epoch 77/100\n",
      "38400/38400 [==============================] - 3s 80us/step - loss: 0.0196 - accuracy: 0.9945 - val_loss: 0.0573 - val_accuracy: 0.9914\n",
      "Epoch 78/100\n",
      "38400/38400 [==============================] - 3s 84us/step - loss: 0.0198 - accuracy: 0.9947 - val_loss: 0.0480 - val_accuracy: 0.9911\n",
      "Epoch 79/100\n",
      "38400/38400 [==============================] - 3s 73us/step - loss: 0.0182 - accuracy: 0.9950 - val_loss: 0.0552 - val_accuracy: 0.9912\n",
      "Epoch 80/100\n",
      "38400/38400 [==============================] - 3s 73us/step - loss: 0.0223 - accuracy: 0.9944 - val_loss: 0.0471 - val_accuracy: 0.9915\n",
      "Epoch 81/100\n",
      "38400/38400 [==============================] - 3s 79us/step - loss: 0.0197 - accuracy: 0.9943 - val_loss: 0.0449 - val_accuracy: 0.9923\n",
      "Epoch 82/100\n",
      "38400/38400 [==============================] - 3s 85us/step - loss: 0.0202 - accuracy: 0.9948 - val_loss: 0.0437 - val_accuracy: 0.9915\n",
      "Epoch 83/100\n",
      "38400/38400 [==============================] - 3s 74us/step - loss: 0.0189 - accuracy: 0.9947 - val_loss: 0.0522 - val_accuracy: 0.9914\n",
      "Epoch 84/100\n",
      "38400/38400 [==============================] - 3s 78us/step - loss: 0.0186 - accuracy: 0.9949 - val_loss: 0.0529 - val_accuracy: 0.9915\n",
      "Epoch 85/100\n",
      "38400/38400 [==============================] - 3s 66us/step - loss: 0.0202 - accuracy: 0.9946 - val_loss: 0.0583 - val_accuracy: 0.9911\n",
      "Epoch 86/100\n",
      "38400/38400 [==============================] - 3s 76us/step - loss: 0.0190 - accuracy: 0.9952 - val_loss: 0.0521 - val_accuracy: 0.9914\n",
      "Epoch 87/100\n",
      "38400/38400 [==============================] - 4s 93us/step - loss: 0.0191 - accuracy: 0.9945 - val_loss: 0.0650 - val_accuracy: 0.9911\n",
      "Epoch 88/100\n",
      "38400/38400 [==============================] - 3s 80us/step - loss: 0.0207 - accuracy: 0.9950 - val_loss: 0.0509 - val_accuracy: 0.9918\n",
      "Epoch 89/100\n",
      "38400/38400 [==============================] - 3s 74us/step - loss: 0.0195 - accuracy: 0.9948 - val_loss: 0.0616 - val_accuracy: 0.9914\n",
      "Epoch 90/100\n",
      "38400/38400 [==============================] - 3s 88us/step - loss: 0.0198 - accuracy: 0.9946 - val_loss: 0.0604 - val_accuracy: 0.9921\n",
      "Epoch 91/100\n",
      "38400/38400 [==============================] - 3s 72us/step - loss: 0.0201 - accuracy: 0.9946 - val_loss: 0.0472 - val_accuracy: 0.9911\n",
      "Epoch 92/100\n",
      "38400/38400 [==============================] - 3s 67us/step - loss: 0.0196 - accuracy: 0.9950 - val_loss: 0.0504 - val_accuracy: 0.9917\n",
      "Epoch 93/100\n",
      "38400/38400 [==============================] - 3s 87us/step - loss: 0.0167 - accuracy: 0.9956 - val_loss: 0.0581 - val_accuracy: 0.9914\n",
      "Epoch 94/100\n",
      "38400/38400 [==============================] - 3s 75us/step - loss: 0.0200 - accuracy: 0.9944 - val_loss: 0.0581 - val_accuracy: 0.9915\n",
      "Epoch 95/100\n",
      "38400/38400 [==============================] - 3s 66us/step - loss: 0.0197 - accuracy: 0.9948 - val_loss: 0.0511 - val_accuracy: 0.9911\n",
      "Epoch 96/100\n",
      "38400/38400 [==============================] - 3s 68us/step - loss: 0.0180 - accuracy: 0.9952 - val_loss: 0.0629 - val_accuracy: 0.9921\n",
      "Epoch 97/100\n",
      "38400/38400 [==============================] - 3s 70us/step - loss: 0.0181 - accuracy: 0.9951 - val_loss: 0.0658 - val_accuracy: 0.9919\n",
      "Epoch 98/100\n",
      "38400/38400 [==============================] - 3s 90us/step - loss: 0.0194 - accuracy: 0.9954 - val_loss: 0.0590 - val_accuracy: 0.9916\n",
      "Epoch 99/100\n",
      "38400/38400 [==============================] - 3s 74us/step - loss: 0.0202 - accuracy: 0.9950 - val_loss: 0.0512 - val_accuracy: 0.9916\n",
      "Epoch 100/100\n",
      "38400/38400 [==============================] - 3s 72us/step - loss: 0.0190 - accuracy: 0.9949 - val_loss: 0.0596 - val_accuracy: 0.9918\n"
     ]
    },
    {
     "data": {
      "text/plain": [
       "<keras.callbacks.callbacks.History at 0x16be07e2b88>"
      ]
     },
     "execution_count": 5,
     "metadata": {},
     "output_type": "execute_result"
    }
   ],
   "source": [
    "model.fit(X_train, y_train, epochs=100, \\\n",
    "          batch_size=20, verbose=1, \\\n",
    "          validation_split=0.2, shuffle=False)"
   ]
  },
  {
   "cell_type": "code",
   "execution_count": 6,
   "metadata": {},
   "outputs": [],
   "source": [
    "y_pred = model.predict(X_test)\n",
    "y_pred_prob = model.predict_proba(X_test)"
   ]
  },
  {
   "cell_type": "code",
   "execution_count": 7,
   "metadata": {},
   "outputs": [
    {
     "name": "stdout",
     "output_type": "stream",
     "text": [
      "[[11746    42]\n",
      " [   82   130]]\n"
     ]
    }
   ],
   "source": [
    "from sklearn.metrics import confusion_matrix\n",
    "y_pred_class1 = y_pred > 0.5\n",
    "cm = confusion_matrix(y_test, y_pred_class1)\n",
    "print(cm)"
   ]
  },
  {
   "cell_type": "code",
   "execution_count": 8,
   "metadata": {},
   "outputs": [],
   "source": [
    "# True Negative\n",
    "TN = cm[0,0]\n",
    "# False Negative\n",
    "FN = cm[1,0]\n",
    "# False Positives\n",
    "FP = cm[0,1]\n",
    "# True Positives\n",
    "TP = cm[1,1]"
   ]
  },
  {
   "cell_type": "code",
   "execution_count": 9,
   "metadata": {},
   "outputs": [
    {
     "name": "stdout",
     "output_type": "stream",
     "text": [
      "Sensitivity: 0.6132\n"
     ]
    }
   ],
   "source": [
    "# Calculating Sensitivity\n",
    "Sensitivity = TP / (TP + FN)\n",
    "print(f'Sensitivity: {Sensitivity:.4f}')"
   ]
  },
  {
   "cell_type": "code",
   "execution_count": 10,
   "metadata": {},
   "outputs": [
    {
     "name": "stdout",
     "output_type": "stream",
     "text": [
      "Specificity: 0.9964\n"
     ]
    }
   ],
   "source": [
    "# Calculating Specificity\n",
    "Specificity = TN / (TN + FP)\n",
    "print(f'Specificity: {Specificity:.4f}')"
   ]
  },
  {
   "cell_type": "code",
   "execution_count": 12,
   "metadata": {},
   "outputs": [
    {
     "name": "stdout",
     "output_type": "stream",
     "text": [
      "Precision: 0.7558\n",
      "False positive rate:       0.0036\n"
     ]
    }
   ],
   "source": [
    "# Precision\n",
    "Precision = TP / (TP + FP)\n",
    "print(f'Precision: {Precision:.4f}')# Calculate False positive rate\n",
    "False_Positive_rate = FP / (FP + TN)\n",
    "print(f'False positive rate: \\\n",
    "      {False_Positive_rate:.4f}')"
   ]
  },
  {
   "cell_type": "code",
   "execution_count": 13,
   "metadata": {},
   "outputs": [
    {
     "data": {
      "image/png": "[encoded data removed]",
      "text/plain": [
       "<Figure size 432x288 with 1 Axes>"
      ]
     },
     "metadata": {
      "needs_background": "light"
     },
     "output_type": "display_data"
    }
   ],
   "source": [
    "import matplotlib.pyplot as plt\n",
    "%matplotlib inline\n",
    "# histogram of class distribution\n",
    "plt.hist(y_pred_prob, bins=100)\n",
    "plt.title(\"Histogram of Predicted Probabilities\")\n",
    "plt.xlabel(\"Predicted Probabilities of APS failure\")\n",
    "plt.ylabel(\"Frequency\")\n",
    "plt.show()"
   ]
  },
  {
   "cell_type": "code",
   "execution_count": null,
   "metadata": {},
   "outputs": [],
   "source": []
  }
 ],
 "metadata": {
  "kernelspec": {
   "display_name": "Python 3",
   "language": "python",
   "name": "python3"
  },
  "language_info": {
   "codemirror_mode": {
    "name": "ipython",
    "version": 3
   },
   "file_extension": ".py",
   "mimetype": "text/x-python",
   "name": "python",
   "nbconvert_exporter": "python",
   "pygments_lexer": "ipython3",
   "version": "3.7.7"
  }
 },
 "nbformat": 4,
 "nbformat_minor": 4
}
