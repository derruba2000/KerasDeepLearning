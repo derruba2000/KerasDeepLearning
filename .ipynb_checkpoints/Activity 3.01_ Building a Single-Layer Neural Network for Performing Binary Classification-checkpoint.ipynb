{
 "cells": [
  {
   "cell_type": "code",
   "execution_count": 6,
   "metadata": {},
   "outputs": [],
   "source": [
    "# import required packages from Keras\n",
    "from keras.models import Sequential \n",
    "from keras.layers import Dense, Activation \n",
    "import numpy as np\n",
    "import pandas as pd\n",
    "from tensorflow import random\n",
    "from sklearn.model_selection import train_test_split\n",
    "# import required packages for plotting\n",
    "import matplotlib.pyplot as plt \n",
    "import matplotlib\n",
    "%matplotlib inline \n",
    "import matplotlib.patches as mpatches\n",
    "# import the function for plotting decision boundary\n",
    "#from utils import plot_decision_boundary"
   ]
  },
  {
   "cell_type": "code",
   "execution_count": 7,
   "metadata": {},
   "outputs": [],
   "source": [
    "\"\"\"\n",
    "define a seed for random number generator so the result \n",
    "will be reproducible\n",
    "\"\"\"\n",
    "seed = 1"
   ]
  },
  {
   "cell_type": "code",
   "execution_count": 8,
   "metadata": {},
   "outputs": [
    {
     "name": "stdout",
     "output_type": "stream",
     "text": [
      "X size =  (3359, 2)\n",
      "Y size =  (3359, 1)\n",
      "Number of examples =  3359\n"
     ]
    }
   ],
   "source": [
    "\"\"\"\n",
    "load the dataset, print the shapes of input and output \n",
    "and the number of examples\n",
    "\"\"\"\n",
    "feats = pd.read_csv(r'C:\\Data\\DeepLearningWorkshop\\outlier_feats.csv')\n",
    "target = pd.read_csv(r'C:\\Data\\DeepLearningWorkshop\\outlier_target.csv')\n",
    "print(\"X size = \", feats.shape)\n",
    "print(\"Y size = \", target.shape)\n",
    "print(\"Number of examples = \", feats.shape[0])"
   ]
  },
  {
   "cell_type": "code",
   "execution_count": 9,
   "metadata": {},
   "outputs": [
    {
     "data": {
      "text/plain": [
       "Text(0, 0.5, 'Feature 2')"
      ]
     },
     "execution_count": 9,
     "metadata": {},
     "output_type": "execute_result"
    },
    {
     "data": {
      "image/png": "[encoded data removed]",
      "text/plain": [
       "<Figure size 432x288 with 1 Axes>"
      ]
     },
     "metadata": {
      "needs_background": "light"
     },
     "output_type": "display_data"
    }
   ],
   "source": [
    "class_1=plt.scatter(feats.loc[target['Class']==0,'feature1'], \\\n",
    "                    feats.loc[target['Class']==0,'feature2'], \\\n",
    "                    c=\"red\", s=40, edgecolor='k')\n",
    "class_2=plt.scatter(feats.loc[target['Class']==1,'feature1'], \\\n",
    "                    feats.loc[target['Class']==1,'feature2'], \\\n",
    "                    c=\"blue\", s=40, edgecolor='k')\n",
    "plt.legend((class_1, class_2),('Fail','Pass'))\n",
    "plt.xlabel('Feature 1')\n",
    "plt.ylabel('Feature 2')"
   ]
  },
  {
   "cell_type": "code",
   "execution_count": 10,
   "metadata": {},
   "outputs": [],
   "source": [
    "np.random.seed(seed)\n",
    "random.set_seed(seed)\n",
    "model = Sequential()\n",
    "model.add(Dense(1, activation='sigmoid', input_dim=2))\n",
    "model.compile(optimizer='sgd', loss='binary_crossentropy')"
   ]
  },
  {
   "cell_type": "code",
   "execution_count": 11,
   "metadata": {},
   "outputs": [
    {
     "name": "stdout",
     "output_type": "stream",
     "text": [
      "Train on 2687 samples, validate on 672 samples\n",
      "Epoch 1/100\n",
      "2687/2687 [==============================] - 0s 133us/step - loss: 0.5405 - val_loss: 0.4194\n",
      "Epoch 2/100\n",
      "2687/2687 [==============================] - 0s 113us/step - loss: 0.3729 - val_loss: 0.3672\n",
      "Epoch 3/100\n",
      "2687/2687 [==============================] - 0s 123us/step - loss: 0.3459 - val_loss: 0.3574\n",
      "Epoch 4/100\n",
      "2687/2687 [==============================] - 0s 104us/step - loss: 0.3396 - val_loss: 0.3551\n",
      "Epoch 5/100\n",
      "2687/2687 [==============================] - 0s 101us/step - loss: 0.3378 - val_loss: 0.3545\n",
      "Epoch 6/100\n",
      "2687/2687 [==============================] - 0s 108us/step - loss: 0.3371 - val_loss: 0.3543\n",
      "Epoch 7/100\n",
      "2687/2687 [==============================] - 0s 99us/step - loss: 0.3369 - val_loss: 0.3543\n",
      "Epoch 8/100\n",
      "2687/2687 [==============================] - 0s 100us/step - loss: 0.3368 - val_loss: 0.3542\n",
      "Epoch 9/100\n",
      "2687/2687 [==============================] - 0s 102us/step - loss: 0.3367 - val_loss: 0.3542\n",
      "Epoch 10/100\n",
      "2687/2687 [==============================] - 0s 100us/step - loss: 0.3367 - val_loss: 0.3542\n",
      "Epoch 11/100\n",
      "2687/2687 [==============================] - 0s 102us/step - loss: 0.3367 - val_loss: 0.3542\n",
      "Epoch 12/100\n",
      "2687/2687 [==============================] - 0s 101us/step - loss: 0.3367 - val_loss: 0.3541\n",
      "Epoch 13/100\n",
      "2687/2687 [==============================] - 0s 100us/step - loss: 0.3367 - val_loss: 0.3541\n",
      "Epoch 14/100\n",
      "2687/2687 [==============================] - 0s 100us/step - loss: 0.3367 - val_loss: 0.3541\n",
      "Epoch 15/100\n",
      "2687/2687 [==============================] - 0s 101us/step - loss: 0.3367 - val_loss: 0.3541\n",
      "Epoch 16/100\n",
      "2687/2687 [==============================] - 0s 99us/step - loss: 0.3367 - val_loss: 0.3541\n",
      "Epoch 17/100\n",
      "2687/2687 [==============================] - 0s 103us/step - loss: 0.3367 - val_loss: 0.3541\n",
      "Epoch 18/100\n",
      "2687/2687 [==============================] - 0s 101us/step - loss: 0.3367 - val_loss: 0.3541\n",
      "Epoch 19/100\n",
      "2687/2687 [==============================] - 0s 102us/step - loss: 0.3367 - val_loss: 0.3541\n",
      "Epoch 20/100\n",
      "2687/2687 [==============================] - 0s 101us/step - loss: 0.3367 - val_loss: 0.3541\n",
      "Epoch 21/100\n",
      "2687/2687 [==============================] - 0s 102us/step - loss: 0.3367 - val_loss: 0.3541\n",
      "Epoch 22/100\n",
      "2687/2687 [==============================] - 0s 103us/step - loss: 0.3367 - val_loss: 0.3541\n",
      "Epoch 23/100\n",
      "2687/2687 [==============================] - 0s 104us/step - loss: 0.3367 - val_loss: 0.3541\n",
      "Epoch 24/100\n",
      "2687/2687 [==============================] - 0s 112us/step - loss: 0.3367 - val_loss: 0.3541\n",
      "Epoch 25/100\n",
      "2687/2687 [==============================] - 0s 100us/step - loss: 0.3367 - val_loss: 0.3541\n",
      "Epoch 26/100\n",
      "2687/2687 [==============================] - 0s 102us/step - loss: 0.3367 - val_loss: 0.3541\n",
      "Epoch 27/100\n",
      "2687/2687 [==============================] - 0s 104us/step - loss: 0.3367 - val_loss: 0.3541\n",
      "Epoch 28/100\n",
      "2687/2687 [==============================] - 0s 100us/step - loss: 0.3367 - val_loss: 0.3541\n",
      "Epoch 29/100\n",
      "2687/2687 [==============================] - 0s 100us/step - loss: 0.3367 - val_loss: 0.3541\n",
      "Epoch 30/100\n",
      "2687/2687 [==============================] - 0s 102us/step - loss: 0.3367 - val_loss: 0.3541\n",
      "Epoch 31/100\n",
      "2687/2687 [==============================] - 0s 101us/step - loss: 0.3367 - val_loss: 0.3541\n",
      "Epoch 32/100\n",
      "2687/2687 [==============================] - 0s 101us/step - loss: 0.3367 - val_loss: 0.3541\n",
      "Epoch 33/100\n",
      "2687/2687 [==============================] - 0s 118us/step - loss: 0.3367 - val_loss: 0.3541\n",
      "Epoch 34/100\n",
      "2687/2687 [==============================] - 0s 106us/step - loss: 0.3367 - val_loss: 0.3541\n",
      "Epoch 35/100\n",
      "2687/2687 [==============================] - 0s 106us/step - loss: 0.3367 - val_loss: 0.3541\n",
      "Epoch 36/100\n",
      "2687/2687 [==============================] - 0s 102us/step - loss: 0.3367 - val_loss: 0.3541\n",
      "Epoch 37/100\n",
      "2687/2687 [==============================] - 0s 103us/step - loss: 0.3367 - val_loss: 0.3541\n",
      "Epoch 38/100\n",
      "2687/2687 [==============================] - 0s 102us/step - loss: 0.3367 - val_loss: 0.3541\n",
      "Epoch 39/100\n",
      "2687/2687 [==============================] - 0s 104us/step - loss: 0.3367 - val_loss: 0.3541\n",
      "Epoch 40/100\n",
      "2687/2687 [==============================] - 0s 104us/step - loss: 0.3367 - val_loss: 0.3541\n",
      "Epoch 41/100\n",
      "2687/2687 [==============================] - 0s 103us/step - loss: 0.3367 - val_loss: 0.3541\n",
      "Epoch 42/100\n",
      "2687/2687 [==============================] - 0s 103us/step - loss: 0.3367 - val_loss: 0.3541\n",
      "Epoch 43/100\n",
      "2687/2687 [==============================] - 0s 100us/step - loss: 0.3367 - val_loss: 0.3541\n",
      "Epoch 44/100\n",
      "2687/2687 [==============================] - 0s 102us/step - loss: 0.3367 - val_loss: 0.3541\n",
      "Epoch 45/100\n",
      "2687/2687 [==============================] - 0s 102us/step - loss: 0.3367 - val_loss: 0.3541\n",
      "Epoch 46/100\n",
      "2687/2687 [==============================] - 0s 99us/step - loss: 0.3367 - val_loss: 0.3541\n",
      "Epoch 47/100\n",
      "2687/2687 [==============================] - 0s 100us/step - loss: 0.3367 - val_loss: 0.3541\n",
      "Epoch 48/100\n",
      "2687/2687 [==============================] - 0s 99us/step - loss: 0.3367 - val_loss: 0.3541\n",
      "Epoch 49/100\n",
      "2687/2687 [==============================] - 0s 105us/step - loss: 0.3367 - val_loss: 0.3541\n",
      "Epoch 50/100\n",
      "2687/2687 [==============================] - 0s 108us/step - loss: 0.3367 - val_loss: 0.3541\n",
      "Epoch 51/100\n",
      "2687/2687 [==============================] - 0s 103us/step - loss: 0.3367 - val_loss: 0.3541\n",
      "Epoch 52/100\n",
      "2687/2687 [==============================] - 0s 108us/step - loss: 0.3367 - val_loss: 0.3541\n",
      "Epoch 53/100\n",
      "2687/2687 [==============================] - 0s 101us/step - loss: 0.3367 - val_loss: 0.3541\n",
      "Epoch 54/100\n",
      "2687/2687 [==============================] - 0s 99us/step - loss: 0.3367 - val_loss: 0.3541\n",
      "Epoch 55/100\n",
      "2687/2687 [==============================] - 0s 100us/step - loss: 0.3367 - val_loss: 0.3541\n",
      "Epoch 56/100\n",
      "2687/2687 [==============================] - 0s 99us/step - loss: 0.3367 - val_loss: 0.3541\n",
      "Epoch 57/100\n",
      "2687/2687 [==============================] - 0s 98us/step - loss: 0.3367 - val_loss: 0.3541\n",
      "Epoch 58/100\n",
      "2687/2687 [==============================] - 0s 105us/step - loss: 0.3367 - val_loss: 0.3541\n",
      "Epoch 59/100\n",
      "2687/2687 [==============================] - 0s 105us/step - loss: 0.3367 - val_loss: 0.3541\n",
      "Epoch 60/100\n",
      "2687/2687 [==============================] - 0s 108us/step - loss: 0.3367 - val_loss: 0.3541\n",
      "Epoch 61/100\n",
      "2687/2687 [==============================] - 0s 103us/step - loss: 0.3367 - val_loss: 0.3541\n",
      "Epoch 62/100\n",
      "2687/2687 [==============================] - 0s 100us/step - loss: 0.3367 - val_loss: 0.3541\n",
      "Epoch 63/100\n",
      "2687/2687 [==============================] - 0s 102us/step - loss: 0.3367 - val_loss: 0.3541\n",
      "Epoch 64/100\n",
      "2687/2687 [==============================] - 0s 105us/step - loss: 0.3367 - val_loss: 0.3541\n",
      "Epoch 65/100\n",
      "2687/2687 [==============================] - 0s 99us/step - loss: 0.3367 - val_loss: 0.3541\n",
      "Epoch 66/100\n",
      "2687/2687 [==============================] - 0s 100us/step - loss: 0.3367 - val_loss: 0.3541\n",
      "Epoch 67/100\n",
      "2687/2687 [==============================] - 0s 102us/step - loss: 0.3367 - val_loss: 0.3541\n",
      "Epoch 68/100\n",
      "2687/2687 [==============================] - 0s 105us/step - loss: 0.3367 - val_loss: 0.3541\n",
      "Epoch 69/100\n",
      "2687/2687 [==============================] - 0s 111us/step - loss: 0.3367 - val_loss: 0.3541\n",
      "Epoch 70/100\n",
      "2687/2687 [==============================] - 0s 100us/step - loss: 0.3367 - val_loss: 0.3541\n",
      "Epoch 71/100\n",
      "2687/2687 [==============================] - 0s 99us/step - loss: 0.3367 - val_loss: 0.3541\n",
      "Epoch 72/100\n",
      "2687/2687 [==============================] - 0s 102us/step - loss: 0.3367 - val_loss: 0.3541\n",
      "Epoch 73/100\n",
      "2687/2687 [==============================] - 0s 110us/step - loss: 0.3367 - val_loss: 0.3541\n",
      "Epoch 74/100\n",
      "2687/2687 [==============================] - 0s 111us/step - loss: 0.3367 - val_loss: 0.3541\n",
      "Epoch 75/100\n",
      "2687/2687 [==============================] - 0s 98us/step - loss: 0.3367 - val_loss: 0.3541\n",
      "Epoch 76/100\n",
      "2687/2687 [==============================] - 0s 114us/step - loss: 0.3367 - val_loss: 0.3541\n",
      "Epoch 77/100\n",
      "2687/2687 [==============================] - 0s 110us/step - loss: 0.3367 - val_loss: 0.3541\n",
      "Epoch 78/100\n"
     ]
    },
    {
     "name": "stdout",
     "output_type": "stream",
     "text": [
      "2687/2687 [==============================] - 0s 100us/step - loss: 0.3367 - val_loss: 0.3541\n",
      "Epoch 79/100\n",
      "2687/2687 [==============================] - 0s 97us/step - loss: 0.3367 - val_loss: 0.3541\n",
      "Epoch 80/100\n",
      "2687/2687 [==============================] - 0s 101us/step - loss: 0.3367 - val_loss: 0.3541\n",
      "Epoch 81/100\n",
      "2687/2687 [==============================] - 0s 109us/step - loss: 0.3367 - val_loss: 0.3541\n",
      "Epoch 82/100\n",
      "2687/2687 [==============================] - 0s 99us/step - loss: 0.3367 - val_loss: 0.3541\n",
      "Epoch 83/100\n",
      "2687/2687 [==============================] - 0s 97us/step - loss: 0.3367 - val_loss: 0.3541\n",
      "Epoch 84/100\n",
      "2687/2687 [==============================] - 0s 97us/step - loss: 0.3367 - val_loss: 0.3541\n",
      "Epoch 85/100\n",
      "2687/2687 [==============================] - 0s 96us/step - loss: 0.3367 - val_loss: 0.3541\n",
      "Epoch 86/100\n",
      "2687/2687 [==============================] - 0s 97us/step - loss: 0.3367 - val_loss: 0.3541\n",
      "Epoch 87/100\n",
      "2687/2687 [==============================] - 0s 97us/step - loss: 0.3367 - val_loss: 0.3541\n",
      "Epoch 88/100\n",
      "2687/2687 [==============================] - 0s 98us/step - loss: 0.3367 - val_loss: 0.3541\n",
      "Epoch 89/100\n",
      "2687/2687 [==============================] - 0s 97us/step - loss: 0.3367 - val_loss: 0.3541\n",
      "Epoch 90/100\n",
      "2687/2687 [==============================] - 0s 98us/step - loss: 0.3367 - val_loss: 0.3541\n",
      "Epoch 91/100\n",
      "2687/2687 [==============================] - 0s 100us/step - loss: 0.3367 - val_loss: 0.3541\n",
      "Epoch 92/100\n",
      "2687/2687 [==============================] - 0s 101us/step - loss: 0.3367 - val_loss: 0.3541\n",
      "Epoch 93/100\n",
      "2687/2687 [==============================] - 0s 102us/step - loss: 0.3367 - val_loss: 0.3541\n",
      "Epoch 94/100\n",
      "2687/2687 [==============================] - 0s 100us/step - loss: 0.3367 - val_loss: 0.3541\n",
      "Epoch 95/100\n",
      "2687/2687 [==============================] - 0s 107us/step - loss: 0.3367 - val_loss: 0.3541\n",
      "Epoch 96/100\n",
      "2687/2687 [==============================] - 0s 107us/step - loss: 0.3367 - val_loss: 0.3541\n",
      "Epoch 97/100\n",
      "2687/2687 [==============================] - 0s 110us/step - loss: 0.3367 - val_loss: 0.3541\n",
      "Epoch 98/100\n",
      "2687/2687 [==============================] - 0s 142us/step - loss: 0.3367 - val_loss: 0.3541\n",
      "Epoch 99/100\n",
      "2687/2687 [==============================] - 0s 124us/step - loss: 0.3367 - val_loss: 0.3541\n",
      "Epoch 100/100\n",
      "2687/2687 [==============================] - 0s 117us/step - loss: 0.3367 - val_loss: 0.3541\n"
     ]
    },
    {
     "data": {
      "text/plain": [
       "<keras.callbacks.callbacks.History at 0x2c4e0227608>"
      ]
     },
     "execution_count": 11,
     "metadata": {},
     "output_type": "execute_result"
    }
   ],
   "source": [
    "model.fit(feats, target, batch_size=5, epochs=100, verbose=1, \\\n",
    "          validation_split=0.2, shuffle=False)"
   ]
  },
  {
   "cell_type": "code",
   "execution_count": null,
   "metadata": {},
   "outputs": [],
   "source": []
  }
 ],
 "metadata": {
  "kernelspec": {
   "display_name": "Python 3",
   "language": "python",
   "name": "python3"
  },
  "language_info": {
   "codemirror_mode": {
    "name": "ipython",
    "version": 3
   },
   "file_extension": ".py",
   "mimetype": "text/x-python",
   "name": "python",
   "nbconvert_exporter": "python",
   "pygments_lexer": "ipython3",
   "version": "3.7.7"
  }
 },
 "nbformat": 4,
 "nbformat_minor": 4
}
