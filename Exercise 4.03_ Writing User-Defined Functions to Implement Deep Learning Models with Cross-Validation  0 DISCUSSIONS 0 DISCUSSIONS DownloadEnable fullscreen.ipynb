{
 "cells": [
  {
   "cell_type": "code",
   "execution_count": 1,
   "metadata": {},
   "outputs": [],
   "source": [
    "# import data\n",
    "import pandas as pd\n",
    "import numpy as np\n",
    "from tensorflow import random\n",
    "colnames = ['CIC0', 'SM1_Dz(Z)', 'GATS1i', 'NdsCH', \\\n",
    "            'NdssC','MLOGP', 'LC50']\n",
    "data = pd.read_csv(r'C:\\Data\\DeepLearningWorkshop\\qsar_fish_toxicity.csv', \\\n",
    "                   sep=';', names=colnames)\n",
    "X = data.drop('LC50', axis=1)\n",
    "y = data['LC50']"
   ]
  },
  {
   "cell_type": "code",
   "execution_count": 2,
   "metadata": {},
   "outputs": [
    {
     "name": "stderr",
     "output_type": "stream",
     "text": [
      "Using TensorFlow backend.\n"
     ]
    }
   ],
   "source": [
    "# Define the Keras models\n",
    "from keras.models import Sequential\n",
    "from keras.layers import Dense\n",
    "def build_model_1():\n",
    "    # build the Keras model_1\n",
    "    model = Sequential()\n",
    "    model.add(Dense(4, input_dim=X.shape[1], \\\n",
    "                    activation='relu'))\n",
    "    model.add(Dense(1))\n",
    "    # Compile the model\n",
    "    model.compile(loss='mean_squared_error', \\\n",
    "                  optimizer='adam')\n",
    "    # return the model\n",
    "    return model\n",
    "def build_model_2():\n",
    "    # build the Keras model_2\n",
    "    model = Sequential()\n",
    "    model.add(Dense(8, input_dim=X.shape[1], \\\n",
    "              activation='relu'))\n",
    "    model.add(Dense(1))\n",
    "    # Compile the model\n",
    "    model.compile(loss='mean_squared_error', \\\n",
    "                  optimizer='adam')\n",
    "    # return the model\n",
    "    return model\n",
    "def build_model_3():\n",
    "    # build the Keras model_3\n",
    "    model = Sequential()\n",
    "    model.add(Dense(4, input_dim=X.shape[1], \\\n",
    "                    activation='relu'))\n",
    "    model.add(Dense(2, activation='relu'))\n",
    "    model.add(Dense(1))\n",
    "    # Compile the model\n",
    "    model.compile(loss='mean_squared_error', \\\n",
    "                  optimizer='adam')\n",
    "    # return the model\n",
    "    return model"
   ]
  },
  {
   "cell_type": "code",
   "execution_count": 3,
   "metadata": {},
   "outputs": [],
   "source": [
    "\"\"\"\n",
    "define a seed for random number generator so the result will be reproducible\n",
    "\"\"\"\n",
    "seed = 1\n",
    "np.random.seed(seed)\n",
    "random.set_seed(seed)\n",
    "# perform cross-validation on each model\n",
    "from keras.wrappers.scikit_learn import KerasRegressor\n",
    "from sklearn.model_selection import KFold\n",
    "from sklearn.model_selection import cross_val_score\n",
    "results_1 = []\n",
    "models = [build_model_1, build_model_2, build_model_3]\n",
    "# loop over three models\n",
    "for m in range(len(models)):\n",
    "    model = KerasRegressor(build_fn=models[m], \\\n",
    "                           epochs=100, batch_size=20, \\\n",
    "                           verbose=0, shuffle=False)\n",
    "    kf = KFold(n_splits=3)\n",
    "    result = cross_val_score(model, X, y, cv=kf)\n",
    "    results_1.append(result)"
   ]
  },
  {
   "cell_type": "code",
   "execution_count": 4,
   "metadata": {},
   "outputs": [
    {
     "name": "stdout",
     "output_type": "stream",
     "text": [
      "Cross-Validation Loss for Model 1 = 1.0304977656170866\n",
      "Cross-Validation Loss for Model 2 = 0.9583904935781766\n",
      "Cross-Validation Loss for Model 3 = 1.7225529214578683\n"
     ]
    }
   ],
   "source": [
    "# print the cross-validation scores\n",
    "print(\"Cross-Validation Loss for Model 1 =\", \\\n",
    "      abs(results_1[0].mean()))\n",
    "print(\"Cross-Validation Loss for Model 2 =\", \\\n",
    "      abs(results_1[1].mean()))\n",
    "print(\"Cross-Validation Loss for Model 3 =\", \\\n",
    "      abs(results_1[2].mean()))"
   ]
  },
  {
   "cell_type": "code",
   "execution_count": 6,
   "metadata": {},
   "outputs": [],
   "source": [
    "\"\"\"\n",
    "define a seed for random number generator so the result will be reproducible\n",
    "\"\"\"\n",
    "np.random.seed(seed)\n",
    "random.set_seed(seed)\n",
    "results_2 = []\n",
    "epochs = [100, 150]\n",
    "batches = [20, 15]\n",
    "# Loop over pairs of epochs and batch_size\n",
    "for e in range(len(epochs)):\n",
    "    for b in range(len(batches)):\n",
    "        model = KerasRegressor(build_fn= build_model_3, \\\n",
    "                               epochs= epochs[e], \\\n",
    "                               batch_size= batches[b], \\\n",
    "                               verbose=0, \\\n",
    "                               shuffle=False)\n",
    "        kf = KFold(n_splits=3)\n",
    "        result = cross_val_score(model, X, y, cv=kf)\n",
    "        results_2.append(result)"
   ]
  },
  {
   "cell_type": "code",
   "execution_count": 7,
   "metadata": {},
   "outputs": [
    {
     "name": "stdout",
     "output_type": "stream",
     "text": [
      "batch_size = 20 ,               epochs = 100 , Test Loss = 1.035649612227065\n",
      "batch_size = 15 ,               epochs = 100 , Test Loss = 1.7997406848492956\n",
      "batch_size = 20 ,               epochs = 150 , Test Loss = 0.9735712506408866\n",
      "batch_size = 15 ,               epochs = 150 , Test Loss = 0.9221761664476015\n"
     ]
    }
   ],
   "source": [
    "\"\"\"\n",
    "Print cross-validation score for each possible pair of epochs, batch_size\n",
    "\"\"\"\n",
    "c = 0\n",
    "for e in range(len(epochs)):\n",
    "    for b in range(len(batches)):\n",
    "        print(\"batch_size =\", batches[b],\", \\\n",
    "              epochs =\", epochs[e], \", Test Loss =\", \\\n",
    "              abs(results_2[c].mean()))\n",
    "        c += 1"
   ]
  },
  {
   "cell_type": "code",
   "execution_count": 8,
   "metadata": {},
   "outputs": [],
   "source": [
    "# Modify build_model_2 function\n",
    "def build_model_2(activation='relu', optimizer='adam'):\n",
    "    # build the Keras model_2\n",
    "    model = Sequential()\n",
    "    model.add(Dense(8, input_dim=X.shape[1], \\\n",
    "              activation=activation))\n",
    "    model.add(Dense(1))\n",
    "    # Compile the model\n",
    "    model.compile(loss='mean_squared_error', \\\n",
    "                  optimizer=optimizer)\n",
    "    # return the model\n",
    "    return model\n",
    "results_3 = []\n",
    "activations = ['relu', 'tanh']\n",
    "optimizers = ['sgd', 'adam', 'rmsprop']\n",
    "\"\"\"\n",
    "Define a seed for the random number generator so the result will be reproducible\n",
    "\"\"\"\n",
    "np.random.seed(seed)\n",
    "random.set_seed(seed)\n",
    "# Loop over pairs of activation and optimizer\n",
    "for o in range(len(optimizers)):\n",
    "    for a in range(len(activations)):\n",
    "        optimizer = optimizers[o]\n",
    "        activation = activations[a]\n",
    "        model = KerasRegressor(build_fn= build_model_3, \\\n",
    "                               epochs=100, batch_size=20, \\\n",
    "                               verbose=0, shuffle=False)\n",
    "        kf = KFold(n_splits=3)\n",
    "        result = cross_val_score(model, X, y, cv=kf)\n",
    "        results_3.append(result)"
   ]
  },
  {
   "cell_type": "code",
   "execution_count": 9,
   "metadata": {},
   "outputs": [
    {
     "name": "stdout",
     "output_type": "stream",
     "text": [
      "activation =  relu ,               optimizer =  sgd ,               Test Loss =  1.0356196150304073\n",
      "activation =  tanh ,               optimizer =  sgd ,               Test Loss =  0.9357647393016996\n",
      "activation =  relu ,               optimizer =  adam ,               Test Loss =  1.0217615855357027\n",
      "activation =  tanh ,               optimizer =  adam ,               Test Loss =  0.9450594244718227\n",
      "activation =  relu ,               optimizer =  rmsprop ,               Test Loss =  1.0201557739859768\n",
      "activation =  tanh ,               optimizer =  rmsprop ,               Test Loss =  2.133906800086015\n"
     ]
    }
   ],
   "source": [
    "\"\"\"\n",
    "Print cross-validation score for each possible pair of optimizer, activation\n",
    "\"\"\"\n",
    "c = 0\n",
    "for o in range(len(optimizers)):\n",
    "    for a in range(len(activations)):\n",
    "        print(\"activation = \", activations[a],\", \\\n",
    "              optimizer = \", optimizers[o], \", \\\n",
    "              Test Loss = \", abs(results_3[c].mean()))\n",
    "        c += 1"
   ]
  },
  {
   "cell_type": "code",
   "execution_count": null,
   "metadata": {},
   "outputs": [],
   "source": []
  }
 ],
 "metadata": {
  "kernelspec": {
   "display_name": "Python 3",
   "language": "python",
   "name": "python3"
  },
  "language_info": {
   "codemirror_mode": {
    "name": "ipython",
    "version": 3
   },
   "file_extension": ".py",
   "mimetype": "text/x-python",
   "name": "python",
   "nbconvert_exporter": "python",
   "pygments_lexer": "ipython3",
   "version": "3.7.7"
  }
 },
 "nbformat": 4,
 "nbformat_minor": 4
}
