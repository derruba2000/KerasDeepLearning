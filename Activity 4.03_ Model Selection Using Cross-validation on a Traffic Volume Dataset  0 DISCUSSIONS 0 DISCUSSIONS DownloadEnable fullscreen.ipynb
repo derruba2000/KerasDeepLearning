{
 "cells": [
  {
   "cell_type": "code",
   "execution_count": 1,
   "metadata": {},
   "outputs": [
    {
     "name": "stderr",
     "output_type": "stream",
     "text": [
      "Using TensorFlow backend.\n"
     ]
    }
   ],
   "source": [
    "# import the required packages\n",
    "from keras.models import Sequential\n",
    "from keras.layers import Dense\n",
    "from keras.wrappers.scikit_learn import KerasRegressor\n",
    "from sklearn.model_selection import KFold\n",
    "from sklearn.model_selection import cross_val_score\n",
    "from sklearn.preprocessing import StandardScaler\n",
    "from sklearn.pipeline import make_pipeline\n",
    "import numpy as np\n",
    "import pandas as pd\n",
    "from tensorflow import random"
   ]
  },
  {
   "cell_type": "code",
   "execution_count": 2,
   "metadata": {},
   "outputs": [
    {
     "name": "stdout",
     "output_type": "stream",
     "text": [
      "Input data size =  (10000, 10)\n",
      "Output size =  (10000, 1)\n",
      "Output Range = (0, 584)\n"
     ]
    }
   ],
   "source": [
    "# Load the dataset\n",
    "# Load the dataset\n",
    "X = pd.read_csv(r'C:\\Data\\DeepLearningWorkshop\\traffic_volume_feats.csv')\n",
    "y = pd.read_csv(r'C:\\Data\\DeepLearningWorkshop\\traffic_volume_target.csv') \n",
    "# Print the sizes of input data and output data\n",
    "print(\"Input data size = \", X.shape)\n",
    "print(\"Output size = \", y.shape)\n",
    "# Print the range for output\n",
    "print(f\"Output Range = ({y['Volume'].min()}, \\\n",
    "{ y['Volume'].max()})\")\n"
   ]
  },
  {
   "cell_type": "code",
   "execution_count": 3,
   "metadata": {},
   "outputs": [],
   "source": [
    "# Create the function that returns the keras model 1\n",
    "def build_model_1(optimizer='adam'):\n",
    "    # create model 1\n",
    "    model = Sequential()\n",
    "    model.add(Dense(10, input_dim=X.shape[1], activation='relu'))\n",
    "    model.add(Dense(1))\n",
    "    # Compile model\n",
    "    model.compile(loss='mean_squared_error', optimizer=optimizer)\n",
    "    return model\n",
    "# Create the function that returns the keras model 2\n",
    "def build_model_2(optimizer='adam'):\n",
    "    # create model 2\n",
    "    model = Sequential()\n",
    "    model.add(Dense(10, input_dim=X.shape[1], activation='relu'))\n",
    "    model.add(Dense(10, activation='relu'))\n",
    "    model.add(Dense(1))\n",
    "    # Compile model\n",
    "    model.compile(loss='mean_squared_error', optimizer=optimizer)\n",
    "    return model\n",
    "# Create the function that returns the keras model 3\n",
    "def build_model_3(optimizer='adam'):\n",
    "    # create model 3\n",
    "    model = Sequential()\n",
    "    model.add(Dense(10, input_dim=X.shape[1], activation='relu'))\n",
    "    model.add(Dense(10, activation='relu'))\n",
    "    model.add(Dense(10, activation='relu'))\n",
    "    model.add(Dense(1))\n",
    "    # Compile model\n",
    "    model.compile(loss='mean_squared_error', optimizer=optimizer)\n",
    "    return model"
   ]
  },
  {
   "cell_type": "code",
   "execution_count": 4,
   "metadata": {},
   "outputs": [
    {
     "name": "stdout",
     "output_type": "stream",
     "text": [
      "Model  1  test error rate =  25.582129273414612\n",
      "Model  2  test error rate =  25.00088150501251\n",
      "Model  3  test error rate =  25.41884836196899\n"
     ]
    }
   ],
   "source": [
    "\"\"\"\n",
    "define a seed for random number generator \n",
    "so the result will be reproducible\n",
    "\"\"\"\n",
    "seed = 1\n",
    "np.random.seed(seed)\n",
    "random.set_seed(seed)\n",
    "# determine the number of folds for k-fold cross-validation\n",
    "n_folds = 5\n",
    "# define the list to store cross-validation scores\n",
    "results_1 = []\n",
    "# define the possible options for the model\n",
    "models = [build_model_1, build_model_2, build_model_3]\n",
    "# loop over models\n",
    "for i in range(len(models)):\n",
    "    # build the scikit-learn interface for the keras model\n",
    "    regressor = KerasRegressor(build_fn=models[i], epochs=100, \\\n",
    "                               batch_size=50, verbose=0, \\\n",
    "                               shuffle=False)\n",
    "    \"\"\"\n",
    "    build the pipeline of transformations so \n",
    "    for each fold training set will be scaled \n",
    "    and test set will be scaled accordingly.\n",
    "    \"\"\"\n",
    "    model = make_pipeline(StandardScaler(), regressor)\n",
    "    # define the cross-validation iterator\n",
    "    kfold = KFold(n_splits=n_folds, shuffle=True, \\\n",
    "                  random_state=seed)\n",
    "    # perform the k-fold cross-validation. \n",
    "    # store the scores in result\n",
    "    result = cross_val_score(model, X, y, cv=kfold)\n",
    "    # add the scores to the results list \n",
    "    results_1.append(result)\n",
    "# Print cross-validation score for each model\n",
    "for i in range(len(models)):\n",
    "    print(\"Model \", i+1,\" test error rate = \", \\\n",
    "          abs(results_1[i].mean()))"
   ]
  },
  {
   "cell_type": "code",
   "execution_count": 5,
   "metadata": {},
   "outputs": [
    {
     "name": "stdout",
     "output_type": "stream",
     "text": [
      "batch_size =  50 , epochs =  80 , Test error rate =  24.99223879337311\n",
      "batch_size =  25 , epochs =  80 , Test error rate =  25.190189769268034\n",
      "batch_size =  50 , epochs =  100 , Test error rate =  25.030433011054992\n",
      "batch_size =  25 , epochs =  100 , Test error rate =  25.135385699272156\n"
     ]
    }
   ],
   "source": [
    "\"\"\"\n",
    "define a seed for random number generator \n",
    "so the result will be reproducible\n",
    "\"\"\"\n",
    "np.random.seed(seed)\n",
    "random.set_seed(seed)\n",
    "# determine the number of folds for k-fold cross-validation\n",
    "n_folds = 5\n",
    "# define the list to store cross-validation scores\n",
    "results_2 = []\n",
    "# define possible options for epochs and batch_size\n",
    "epochs = [80, 100]\n",
    "batches = [50, 25]\n",
    "# loop over all possible pairs of epochs, batch_size\n",
    "for i in range(len(epochs)):\n",
    "    for j in range(len(batches)):\n",
    "        # build the scikit-learn interface for the keras model\n",
    "        regressor = KerasRegressor(build_fn=build_model_2, \\\n",
    "                                   epochs=epochs[i], \\\n",
    "                                   batch_size=batches[j], \\\n",
    "                                   verbose=0, shuffle=False)\n",
    "        \"\"\"\n",
    "        build the pipeline of transformations so \n",
    "        for each fold training set will be scaled \n",
    "        and test set will be scaled accordingly.\n",
    "        \"\"\"\n",
    "        model = make_pipeline(StandardScaler(), regressor)\n",
    "        # define the cross-validation iterator\n",
    "        kfold = KFold(n_splits=n_folds, shuffle=True, \\\n",
    "                      random_state=seed)\n",
    "        # perform the k-fold cross-validation. \n",
    "        # store the scores in result\n",
    "        result = cross_val_score(model, X, y, cv=kfold)\n",
    "        # add the scores to the results list \n",
    "        results_2.append(result)\n",
    "\"\"\"\n",
    "Print cross-validation score for each \n",
    "possible pair of epochs, batch_size\n",
    "\"\"\"\n",
    "c = 0\n",
    "for i in range(len(epochs)):\n",
    "    for j in range(len(batches)):\n",
    "        print(\"batch_size = \", batches[j],\\\n",
    "              \", epochs = \", epochs[i], \\\n",
    "              \", Test error rate = \", abs(results_2[c].mean()))\n",
    "        c += 1"
   ]
  },
  {
   "cell_type": "code",
   "execution_count": 6,
   "metadata": {},
   "outputs": [
    {
     "name": "stdout",
     "output_type": "stream",
     "text": [
      "optimizer= adam  test error rate =  25.004420218467715\n",
      "optimizer= sgd  test error rate =  25.04851273536682\n",
      "optimizer= rmsprop  test error rate =  25.02900333404541\n"
     ]
    }
   ],
   "source": [
    "\"\"\"\n",
    "define a seed for random number generator \n",
    "so the result will be reproducible\n",
    "\"\"\"\n",
    "np.random.seed(seed)\n",
    "random.set_seed(seed)\n",
    "# determine the number of folds for k-fold cross-validation\n",
    "n_folds = 5\n",
    "# define the list to store cross-validation scores\n",
    "results_3 = []\n",
    "# define the possible options for the optimizer\n",
    "optimizers = ['adam', 'sgd', 'rmsprop']\n",
    "# loop over optimizers\n",
    "for i in range(len(optimizers)):\n",
    "    optimizer=optimizers[i]\n",
    "    # build the scikit-learn interface for the keras model\n",
    "    regressor = KerasRegressor(build_fn=build_model_2, \\\n",
    "                               epochs=100, batch_size=50, \\\n",
    "                               verbose=0, shuffle=False)\n",
    "    \"\"\"\n",
    "    build the pipeline of transformations so \n",
    "    for each fold training set will be scaled \n",
    "    and test set will be scaled accordingly.\n",
    "    \"\"\"\n",
    "    model = make_pipeline(StandardScaler(), regressor)\n",
    "    # define the cross-validation iterator\n",
    "    kfold = KFold(n_splits=n_folds, shuffle=True, \\\n",
    "                  random_state=seed)\n",
    "    # perform the k-fold cross-validation. \n",
    "    # store the scores in result\n",
    "    result = cross_val_score(model, X, y, cv=kfold)\n",
    "    # add the scores to the results list \n",
    "    results_3.append(result)\n",
    "# Print cross-validation score for each optimizer\n",
    "for i in range(len(optimizers)):\n",
    "    print(\"optimizer=\", optimizers[i],\" test error rate = \", \\\n",
    "          abs(results_3[i].mean()))"
   ]
  },
  {
   "cell_type": "code",
   "execution_count": null,
   "metadata": {},
   "outputs": [],
   "source": []
  }
 ],
 "metadata": {
  "kernelspec": {
   "display_name": "Python 3",
   "language": "python",
   "name": "python3"
  },
  "language_info": {
   "codemirror_mode": {
    "name": "ipython",
    "version": 3
   },
   "file_extension": ".py",
   "mimetype": "text/x-python",
   "name": "python",
   "nbconvert_exporter": "python",
   "pygments_lexer": "ipython3",
   "version": "3.7.7"
  }
 },
 "nbformat": 4,
 "nbformat_minor": 4
}
