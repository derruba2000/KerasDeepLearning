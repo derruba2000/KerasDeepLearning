{
 "cells": [
  {
   "cell_type": "code",
   "execution_count": 1,
   "metadata": {},
   "outputs": [],
   "source": [
    "import pandas as pd\n",
    "feats = pd.read_csv(r'C:\\Data\\DeepLearningWorkshop\\OSI_feats_e3.csv')\n",
    "target = pd.read_csv(r'C:\\Data\\DeepLearningWorkshop\\OSI_target_e2.csv')"
   ]
  },
  {
   "cell_type": "code",
   "execution_count": 2,
   "metadata": {},
   "outputs": [],
   "source": [
    "from sklearn.model_selection import train_test_split\n",
    "test_size = 0.2\n",
    "random_state = 42\n",
    "X_train, X_test, \\\n",
    "y_train, y_test = train_test_split(feats, target, \\\n",
    "                                   test_size=test_size, \\\n",
    "                                   random_state=random_state)"
   ]
  },
  {
   "cell_type": "code",
   "execution_count": 3,
   "metadata": {},
   "outputs": [
    {
     "name": "stdout",
     "output_type": "stream",
     "text": [
      "Shape of X_train: (9864, 84)\n",
      "Shape of y_train: (9864, 1)\n",
      "Shape of X_test: (2466, 84)\n",
      "Shape of y_test: (2466, 1)\n"
     ]
    }
   ],
   "source": [
    "print(f'Shape of X_train: {X_train.shape}')\n",
    "print(f'Shape of y_train: {y_train.shape}')\n",
    "print(f'Shape of X_test: {X_test.shape}')\n",
    "print(f'Shape of y_test: {y_test.shape}')"
   ]
  },
  {
   "cell_type": "code",
   "execution_count": 12,
   "metadata": {},
   "outputs": [],
   "source": [
    "from sklearn.linear_model import LogisticRegression\n",
    "model = LogisticRegression(random_state=42, max_iter=100000)"
   ]
  },
  {
   "cell_type": "code",
   "execution_count": 13,
   "metadata": {},
   "outputs": [
    {
     "data": {
      "text/plain": [
       "LogisticRegression(C=1.0, class_weight=None, dual=False, fit_intercept=True,\n",
       "                   intercept_scaling=1, l1_ratio=None, max_iter=100000,\n",
       "                   multi_class='auto', n_jobs=None, penalty='l2',\n",
       "                   random_state=42, solver='lbfgs', tol=0.0001, verbose=0,\n",
       "                   warm_start=False)"
      ]
     },
     "execution_count": 13,
     "metadata": {},
     "output_type": "execute_result"
    }
   ],
   "source": [
    "model.fit(X_train, y_train['Revenue'])"
   ]
  },
  {
   "cell_type": "code",
   "execution_count": 14,
   "metadata": {},
   "outputs": [],
   "source": [
    "y_pred = model.predict(X_test)"
   ]
  },
  {
   "cell_type": "code",
   "execution_count": 15,
   "metadata": {},
   "outputs": [
    {
     "name": "stdout",
     "output_type": "stream",
     "text": [
      "Accuracy of the model is 87.0641%\n"
     ]
    }
   ],
   "source": [
    "from sklearn import metrics\n",
    "accuracy = metrics.accuracy_score(y_pred=y_pred, \\\n",
    "                                  y_true=y_test)\n",
    "print(f'Accuracy of the model is {accuracy*100:.4f}%')"
   ]
  },
  {
   "cell_type": "code",
   "execution_count": 16,
   "metadata": {},
   "outputs": [
    {
     "name": "stdout",
     "output_type": "stream",
     "text": [
      "Precision: 0.7323\n",
      "Recall: 0.3528\n",
      "fscore: 0.4762\n"
     ]
    }
   ],
   "source": [
    "precision, recall, fscore, _ = \\\n",
    "metrics.precision_recall_fscore_support(y_pred=y_pred, \\\n",
    "                                        y_true=y_test, \\\n",
    "                                        average='binary')\n",
    "print(f'Precision: {precision:.4f}\\nRecall: \\\n",
    "{recall:.4f}\\nfscore: {fscore:.4f}')"
   ]
  },
  {
   "cell_type": "code",
   "execution_count": 17,
   "metadata": {},
   "outputs": [
    {
     "name": "stdout",
     "output_type": "stream",
     "text": [
      "TrafficType_13: -0.6064504858411706\n",
      "Month_Dec: -0.6048318503617278\n",
      "TrafficType_3: -0.5666450710838646\n",
      "VisitorType_Returning_Visitor: -0.5141014457086867\n",
      "Month_Mar: -0.49349487605406545\n",
      "OperatingSystems_1: -0.45769401045666064\n",
      "OperatingSystems_3: -0.43798427783650123\n",
      "Month_May: -0.39375177372062725\n",
      "ExitRates: -0.3658376266629792\n",
      "SpecialDay: -0.35085488209271376\n",
      "Region_1: -0.29329263983567366\n",
      "Region_3: -0.27527811614858466\n",
      "BounceRates: -0.2746030298189121\n",
      "Region_4: -0.26415037300485666\n",
      "TrafficType_1: -0.25412806699110124\n",
      "Month_June: -0.24631545717260267\n",
      "Browser_1: -0.2047073350269136\n",
      "Browser_1.1: -0.2047073350269136\n",
      "OperatingSystems: -0.17983667139789394\n",
      "Browser_2: -0.17890877861689722\n",
      "Browser_2.1: -0.17890877861689722\n",
      "Browser_4: -0.1692713842448985\n",
      "Browser_4.1: -0.1692713842448985\n",
      "OperatingSystems_2: -0.16845730804832879\n",
      "Browser_6: -0.16111948700427103\n",
      "Browser_6.1: -0.16111948700427103\n",
      "Browser_3: -0.15493701651547126\n",
      "Browser_3.1: -0.15493701651547126\n",
      "TrafficType_6: -0.14526715009581445\n",
      "VisitorType_New_Visitor: -0.12255342337844496\n",
      "Region_2: -0.08199716841239396\n",
      "TrafficType_2: -0.07763381088407019\n",
      "Region: -0.06849019878765468\n",
      "TrafficType_15: -0.06775739840846547\n",
      "TrafficType_9: -0.05640749022113709\n",
      "Browser_5: -0.04292948962614012\n",
      "Browser_5.1: -0.04292948962614012\n",
      "TrafficType_19: -0.022126186917349785\n",
      "Browser: -0.01940473059194438\n",
      "TrafficType_4: -0.018433573190434052\n",
      "TrafficType: -0.013762702565505177\n",
      "TrafficType_18: -0.01071272712825718\n",
      "Browser_8: -0.00954621502141247\n",
      "Browser_8.1: -0.00954621502141247\n",
      "TrafficType_14: -0.008541657544434103\n",
      "TrafficType_12: -0.0018291238167209732\n",
      "Informational_Duration: -0.00030666461129987916\n",
      "Administrative_Duration: -5.518911616933418e-05\n",
      "ProductRelated_Duration: 4.3657679029656293e-05\n",
      "ProductRelated: 0.0031087322130833347\n",
      "TrafficType_7: 0.006562076889993635\n",
      "Region_9: 0.006681053884091533\n",
      "Administrative: 0.0132621811803515\n",
      "Browser_11: 0.02093538894713493\n",
      "Browser_11.1: 0.02093538894713493\n",
      "OperatingSystems_6: 0.023906248056778913\n",
      "Region_7: 0.02807993623327938\n",
      "TrafficType_16: 0.029552453760028005\n",
      "Browser_7: 0.030034306119004633\n",
      "Browser_7.1: 0.030034306119004633\n",
      "OperatingSystems_7: 0.031212075931018234\n",
      "OperatingSystems_8: 0.033905741558753213\n",
      "Browser_13: 0.06694060670462187\n",
      "Browser_13.1: 0.06694060670462187\n",
      "Browser_10: 0.06813258917517423\n",
      "Browser_10.1: 0.06813258917517423\n",
      "Browser_12: 0.08012727436035776\n",
      "Browser_12.1: 0.08012727436035776\n",
      "PageValues: 0.08771185584898875\n",
      "Informational: 0.09164527010386712\n",
      "TrafficType_5: 0.09646729907246729\n",
      "Month_Aug: 0.11117824169005765\n",
      "Month_Sep: 0.13609527522967652\n",
      "is_weekend: 0.18325132454655813\n",
      "Region_6: 0.19755380197760136\n",
      "TrafficType_11: 0.19802084605422596\n",
      "Month_Jul: 0.19986975920954225\n",
      "TrafficType_20: 0.21535991142212693\n",
      "Region_8: 0.2331613620236772\n",
      "Month_Oct: 0.28957156380984184\n",
      "OperatingSystems_4: 0.2977199729014179\n",
      "TrafficType_8: 0.30405559557299144\n",
      "TrafficType_10: 0.3308894002945179\n",
      "Month_Nov: 0.6325681749909975\n"
     ]
    }
   ],
   "source": [
    "coef_list = [f'{feature}: {coef}' for coef, \\\n",
    "             feature in sorted(zip(model.coef_[0], \\\n",
    "             X_train.columns.values.tolist()))]\n",
    "for item in coef_list:\n",
    "    print(item)"
   ]
  },
  {
   "cell_type": "code",
   "execution_count": null,
   "metadata": {},
   "outputs": [],
   "source": []
  }
 ],
 "metadata": {
  "kernelspec": {
   "display_name": "Python 3",
   "language": "python",
   "name": "python3"
  },
  "language_info": {
   "codemirror_mode": {
    "name": "ipython",
    "version": 3
   },
   "file_extension": ".py",
   "mimetype": "text/x-python",
   "name": "python",
   "nbconvert_exporter": "python",
   "pygments_lexer": "ipython3",
   "version": "3.7.6"
  }
 },
 "nbformat": 4,
 "nbformat_minor": 4
}
